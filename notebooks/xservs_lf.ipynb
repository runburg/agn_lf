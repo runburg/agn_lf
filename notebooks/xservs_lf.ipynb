{
 "cells": [
  {
   "cell_type": "code",
   "execution_count": 1,
   "metadata": {},
   "outputs": [
    {
     "name": "stdout",
     "output_type": "stream",
     "text": [
      "/Users/runburg/github/agn_lf\n"
     ]
    },
    {
     "data": {
      "text/html": [
       "<style>.container { width:100% !important; }</style>"
      ],
      "text/plain": [
       "<IPython.core.display.HTML object>"
      ]
     },
     "metadata": {},
     "output_type": "display_data"
    }
   ],
   "source": [
    "%cd ~/github/agn_lf/\n",
    "import source.astro_functions as af\n",
    "import source.table_functions as tf\n",
    "import source.lf_xi2 as xi2\n",
    "import source.vmax as vmax\n",
    "import source.utils as utils\n",
    "import numpy as np\n",
    "import matplotlib.pyplot as plt\n",
    "from astropy.io import fits\n",
    "import astropy.table as table\n",
    "\n",
    "from IPython.core.display import display, HTML\n",
    "display(HTML(\"<style>.container { width:100% !important; }</style>\"))"
   ]
  },
  {
   "cell_type": "code",
   "execution_count": 2,
   "metadata": {},
   "outputs": [
    {
     "name": "stdout",
     "output_type": "stream",
     "text": [
      "5242\n"
     ]
    },
    {
     "data": {
      "text/html": [
       "<i>Row index=0 masked=True</i>\n",
       "<table id=\"table4895836912\">\n",
       "<thead><tr><th>XID</th><th>RA</th><th>DEC</th><th>XPOSERR</th><th>R68</th><th>R99</th><th>EMLERR</th><th>SB_RA</th><th>SB_DEC</th><th>HB_RA</th><th>HB_DEC</th><th>FB_RA</th><th>FB_DEC</th><th>SB_DET_ML</th><th>HB_DET_ML</th><th>FB_DET_ML</th><th>SB_RELIABILITY</th><th>HB_RELIABILITY</th><th>FB_RELIABILITY</th><th>SB_EXP</th><th>HB_EXP</th><th>FB_EXP</th><th>SB_EXPPN</th><th>SB_EXPM1</th><th>SB_EXPM2</th><th>HB_EXPPN</th><th>HB_EXPM1</th><th>HB_EXPM2</th><th>FB_EXPPN</th><th>FB_EXPM1</th><th>FB_EXPM2</th><th>SB_BKG</th><th>HB_BKG</th><th>FB_BKG</th><th>SB_BKGPN</th><th>SB_BKGM1</th><th>SB_BKGM2</th><th>HB_BKGPN</th><th>HB_BKGM1</th><th>HB_BKGM2</th><th>FB_BKGPN</th><th>FB_BKGM1</th><th>FB_BKGM2</th><th>SB_SCTS</th><th>HB_SCTS</th><th>FB_SCTS</th><th>SB_SCTPN</th><th>SB_SCTM1</th><th>SB_SCTM2</th><th>HB_SCTPN</th><th>HB_SCTM1</th><th>HB_SCTM2</th><th>FB_SCTPN</th><th>FB_SCTM1</th><th>FB_SCTM2</th><th>SB_SCTS_ERR</th><th>HB_SCTS_ERR</th><th>FB_SCTS_ERR</th><th>SB_SCTPN_ERR</th><th>SB_SCTM1_ERR</th><th>SB_SCTM2_ERR</th><th>HB_SCTPN_ERR</th><th>HB_SCTM1_ERR</th><th>HB_SCTM2_ERR</th><th>FB_SCTPN_ERR</th><th>FB_SCTM1_ERR</th><th>FB_SCTM2_ERR</th><th>SB_RATE</th><th>SB_RATEPN</th><th>SB_RATEM1</th><th>SB_RATEM2</th><th>HB_RATE</th><th>HB_RATEPN</th><th>HB_RATEM1</th><th>HB_RATEM2</th><th>FB_RATE</th><th>FB_RATEPN</th><th>FB_RATEM1</th><th>FB_RATEM2</th><th>SB_RATE_ERR</th><th>SB_RATEPN_ERR</th><th>SB_RATEM1_ERR</th><th>SB_RATEM2_ERR</th><th>HB_RATE_ERR</th><th>HB_RATEPN_ERR</th><th>HB_RATEM1_ERR</th><th>HB_RATEM2_ERR</th><th>FB_RATE_ERR</th><th>FB_RATEPN_ERR</th><th>FB_RATEM1_ERR</th><th>FB_RATEM2_ERR</th><th>SB_FLUX</th><th>SB_FLUXERR</th><th>HB_FLUX</th><th>HB_FLUXERR</th><th>FB_FLUX</th><th>FB_FLUXERR</th><th>HR</th><th>HR_LERR</th><th>HR_UERR</th><th>BEHR_PN</th><th>BEHR_LB_PN</th><th>BEHR_UB_PN</th><th>BEHR_M1</th><th>BEHR_LB_M1</th><th>BEHR_UB_M1</th><th>BEHR_M2</th><th>BEHR_LB_M2</th><th>BEHR_UB_M2</th><th>LX</th><th>CSCID</th><th>XXLID</th><th>NALL_SERVS</th><th>NALL_VIDEO</th><th>NALL_CFHT</th><th>NALL_HSC</th><th>NMATCH_LR_SERVS</th><th>NMATCH_LR_VIDEO</th><th>NMATCH_LR_CFHT</th><th>NMATCH_LR_HSC</th><th>LR_RELIABLE</th><th>SERVS_BLENDING</th><th>CATALOG</th><th>OIR_RA</th><th>OIR_DEC</th><th>XOIR_SEP</th><th>LR</th><th>SERVS_RA</th><th>SERVS_DEC</th><th>SERVS_ID</th><th>SERVS_MR</th><th>VIDEO_RA</th><th>VIDEO_DEC</th><th>VIDEO_ID</th><th>VIDEO_MR</th><th>CFHT_RA</th><th>CFHT_DEC</th><th>CFHT_ID</th><th>CFHT_MR</th><th>HSC_RA</th><th>HSC_DEC</th><th>HSC_ID</th><th>HSC_MR</th><th>SERVS_MAG1</th><th>SERVS_MAG2</th><th>SERVS_MAG1_ERR</th><th>SERVS_MAG2_ERR</th><th>SWIRE_MAG1</th><th>SWIRE_MAG2</th><th>SWIRE_MAG3</th><th>SWIRE_MAG4</th><th>SWIRE_MAG1_ERR</th><th>SWIRE_MAG2_ERR</th><th>SWIRE_MAG3_ERR</th><th>SWIRE_MAG4_ERR</th><th>SWIRE_MIPS24</th><th>SWIRE_MIPS24_ERR</th><th>VIDEO_ZMAG</th><th>VIDEO_ZMAGERR</th><th>VIDEO_YMAG</th><th>VIDEO_YMAGERR</th><th>VIDEO_JMAG</th><th>VIDEO_JMAGERR</th><th>VIDEO_HMAG</th><th>VIDEO_HMAGERR</th><th>VIDEO_KSMAG</th><th>VIDEO_KSMAGERR</th><th>CFHT_UMAG</th><th>CFHT_UMAGERR</th><th>CFHT_GMAG</th><th>CFHT_GMAGERR</th><th>CFHT_RMAG</th><th>CFHT_RMAGERR</th><th>CFHT_IMAG</th><th>CFHT_IMAGERR</th><th>CFHT_ZMAG</th><th>CFHT_ZMAGERR</th><th>HSC_GMAG</th><th>HSC_GMAGERR</th><th>HSC_RMAG</th><th>HSC_RMAGERR</th><th>HSC_IMAG</th><th>HSC_IMAGERR</th><th>HSC_ZMAG</th><th>HSC_ZMAGERR</th><th>HSC_YMAG</th><th>HSC_YMAGERR</th><th>ZSPEC_RA</th><th>ZSPEC_DEC</th><th>ZSPEC_ID</th><th>ZSPEC</th><th>ZSOURCE</th><th>ZOFLAG</th><th>ZPHOT</th><th>ZPHOT_UERR</th><th>ZPHOT_LERR</th><th>ZPHOT_QZ</th><th>CLASS</th><th>SECONDARY_CATALOG</th><th>SECONDARY_RA</th><th>SECONDARY_DEC</th><th>SECONDARY_SEP</th><th>SECONDARY_LR</th><th>SECONDARY_SERVS_RA</th><th>SECONDARY_SERVS_DEC</th><th>SECONDARY_SERVS_ID</th><th>SECONDARY_SERVS_MR</th><th>SECONDARY_VIDEO_RA</th><th>SECONDARY_VIDEO_DEC</th><th>SECONDARY_VIDEO_ID</th><th>SECONDARY_VIDEO_MR</th><th>SECONDARY_CFHT_RA</th><th>SECONDARY_CFHT_DEC</th><th>SECONDARY_CFHT_ID</th><th>SECONDARY_CFHT_MR</th><th>SECONDARY_HSC_RA</th><th>SECONDARY_HSC_DEC</th><th>SECONDARY_HSC_ID</th><th>SECONDARY_HSC_MR</th><th>SECONDARY_SERVS_MAG1</th><th>SECONDARY_SERVS_MAG2</th><th>SECONDARY_SERVS_MAG1_ERR</th><th>SECONDARY_SERVS_MAG2_ERR</th><th>SECONDARY_SWIRE_MAG1</th><th>SECONDARY_SWIRE_MAG2</th><th>SECONDARY_SWIRE_MAG3</th><th>SECONDARY_SWIRE_MAG4</th><th>SECONDARY_SWIRE_MAG1_ERR</th><th>SECONDARY_SWIRE_MAG2_ERR</th><th>SECONDARY_SWIRE_MAG3_ERR</th><th>SECONDARY_SWIRE_MAG4_ERR</th><th>SECONDARY_SWIRE_MIPS24</th><th>SECONDARY_SWIRE_MIPS24_ERR</th><th>SECONDARY_VIDEO_ZMAG</th><th>SECONDARY_VIDEO_ZMAGERR</th><th>SECONDARY_VIDEO_YMAG</th><th>SECONDARY_VIDEO_YMAGERR</th><th>SECONDARY_VIDEO_JMAG</th><th>SECONDARY_VIDEO_JMAGERR</th><th>SECONDARY_VIDEO_HMAG</th><th>SECONDARY_VIDEO_HMAGERR</th><th>SECONDARY_VIDEO_KSMAG</th><th>SECONDARY_VIDEO_KSMAGERR</th><th>SECONDARY_CFHT_UMAG</th><th>SECONDARY_CFHT_UMAGERR</th><th>SECONDARY_CFHT_GMAG</th><th>SECONDARY_CFHT_GMAGERR</th><th>SECONDARY_CFHT_RMAG</th><th>SECONDARY_CFHT_RMAGERR</th><th>SECONDARY_CFHT_IMAG</th><th>SECONDARY_CFHT_IMAGERR</th><th>SECONDARY_CFHT_ZMAG</th><th>SECONDARY_CFHT_ZMAGERR</th><th>SECONDARY_HSC_GMAG</th><th>SECONDARY_HSC_GMAGERR</th><th>SECONDARY_HSC_RMAG</th><th>SECONDARY_HSC_RMAGERR</th><th>SECONDARY_HSC_IMAG</th><th>SECONDARY_HSC_IMAGERR</th><th>SECONDARY_HSC_ZMAG</th><th>SECONDARY_HSC_ZMAGERR</th><th>SECONDARY_HSC_YMAG</th><th>SECONDARY_HSC_YMAGERR</th><th>SECONDARY_ZSPEC_RA</th><th>SECONDARY_ZSPEC_DEC</th><th>SECONDARY_ZSPEC_ID</th><th>SECONDARY_ZSPEC</th><th>SECONDARY_ZSOURCE</th><th>SECONDARY_ZOFLAG</th><th>TERTIARY_CATALOG</th><th>TERTIARY_RA</th><th>TERTIARY_DEC</th><th>TERTIARY_SEP</th><th>TERTIARY_LR</th><th>TERTIARY_SERVS_RA</th><th>TERTIARY_SERVS_DEC</th><th>TERTIARY_SERVS_ID</th><th>TERTIARY_SERVS_MR</th><th>TERTIARY_VIDEO_RA</th><th>TERTIARY_VIDEO_DEC</th><th>TERTIARY_VIDEO_ID</th><th>TERTIARY_VIDEO_MR</th><th>TERTIARY_CFHT_RA</th><th>TERTIARY_CFHT_DEC</th><th>TERTIARY_CFHT_ID</th><th>TERTIARY_CFHT_MR</th><th>TERTIARY_HSC_RA</th><th>TERTIARY_HSC_DEC</th><th>TERTIARY_HSC_ID</th><th>TERTIARY_HSC_MR</th><th>TERTIARY_SERVS_MAG1</th><th>TERTIARY_SERVS_MAG2</th><th>TERTIARY_SERVS_MAG1_ERR</th><th>TERTIARY_SERVS_MAG2_ERR</th><th>TERTIARY_SWIRE_MAG1</th><th>TERTIARY_SWIRE_MAG2</th><th>TERTIARY_SWIRE_MAG3</th><th>TERTIARY_SWIRE_MAG4</th><th>TERTIARY_SWIRE_MAG1_ERR</th><th>TERTIARY_SWIRE_MAG2_ERR</th><th>TERTIARY_SWIRE_MAG3_ERR</th><th>TERTIARY_SWIRE_MAG4_ERR</th><th>TERTIARY_SWIRE_MIPS24</th><th>TERTIARY_SWIRE_MIPS24_ERR</th><th>TERTIARY_VIDEO_ZMAG</th><th>TERTIARY_VIDEO_ZMAGERR</th><th>TERTIARY_VIDEO_YMAG</th><th>TERTIARY_VIDEO_YMAGERR</th><th>TERTIARY_VIDEO_JMAG</th><th>TERTIARY_VIDEO_JMAGERR</th><th>TERTIARY_VIDEO_HMAG</th><th>TERTIARY_VIDEO_HMAGERR</th><th>TERTIARY_VIDEO_KSMAG</th><th>TERTIARY_VIDEO_KSMAGERR</th><th>TERTIARY_CFHT_UMAG</th><th>TERTIARY_CFHT_UMAGERR</th><th>TERTIARY_CFHT_GMAG</th><th>TERTIARY_CFHT_GMAGERR</th><th>TERTIARY_CFHT_RMAG</th><th>TERTIARY_CFHT_RMAGERR</th><th>TERTIARY_CFHT_IMAG</th><th>TERTIARY_CFHT_IMAGERR</th><th>TERTIARY_CFHT_ZMAG</th><th>TERTIARY_CFHT_ZMAGERR</th><th>TERTIARY_HSC_GMAG</th><th>TERTIARY_HSC_GMAGERR</th><th>TERTIARY_HSC_RMAG</th><th>TERTIARY_HSC_RMAGERR</th><th>TERTIARY_HSC_IMAG</th><th>TERTIARY_HSC_IMAGERR</th><th>TERTIARY_HSC_ZMAG</th><th>TERTIARY_HSC_ZMAGERR</th><th>TERTIARY_HSC_YMAG</th><th>TERTIARY_HSC_YMAGERR</th><th>TERTIARY_ZSPEC_RA</th><th>TERTIARY_ZSPEC_DEC</th><th>TERTIARY_ZSPEC_ID</th><th>TERTIARY_ZSPEC</th><th>TERTIARY_ZSOURCE</th><th>TERTIARY_ZOFLAG</th><th>SUPPLEMENTARY_SDSS_ID</th><th>SUPPLEMENTARY_SDSS_RA</th><th>SUPPLEMENTARY_SDSS_DEC</th><th>SUPPLEMENTARY_SDSS_UMAG</th><th>SUPPLEMENTARY_SDSS_UMAGERR</th><th>SUPPLEMENTARY_SDSS_GMAG</th><th>SUPPLEMENTARY_SDSS_GMAGERR</th><th>SUPPLEMENTARY_SDSS_RMAG</th><th>SUPPLEMENTARY_SDSS_RMAGERR</th><th>SUPPLEMENTARY_SDSS_IMAG</th><th>SUPPLEMENTARY_SDSS_IMAGERR</th><th>SUPPLEMENTARY_SDSS_ZMAG</th><th>SUPPLEMENTARY_SDSS_ZMAGERR</th><th>SUPPLEMENTARY_2MASS_ID</th><th>SUPPLEMENTARY_2MASS_RA</th><th>SUPPLEMENTARY_2MASS_DEC</th><th>SUPPLEMENTARY_2MASS_JMAG</th><th>SUPPLEMENTARY_2MASS_JMAGERR</th><th>SUPPLEMENTARY_2MASS_HMAG</th><th>SUPPLEMENTARY_2MASS_HMAGERR</th><th>SUPPLEMENTARY_2MASS_KSMAG</th><th>SUPPLEMENTARY_2MASS_KSMAGERR</th><th>SUPPLEMENTARY_DXS_ID</th><th>SUPPLEMENTARY_DXS_RA</th><th>SUPPLEMENTARY_DXS_DEC</th><th>SUPPLEMENTARY_DXS_JMAG</th><th>SUPPLEMENTARY_DXS_JMAGERR</th><th>SUPPLEMENTARY_DXS_KSMAG</th><th>SUPPLEMENTARY_DXS_KSMAGERR</th></tr></thead>\n",
       "<thead><tr><th>bytes8</th><th>float64</th><th>float64</th><th>float64</th><th>float64</th><th>float64</th><th>float64</th><th>float64</th><th>float64</th><th>float64</th><th>float64</th><th>float64</th><th>float64</th><th>float64</th><th>float64</th><th>float64</th><th>float64</th><th>float64</th><th>float64</th><th>float64</th><th>float64</th><th>float64</th><th>float64</th><th>float64</th><th>float64</th><th>float64</th><th>float64</th><th>float64</th><th>float64</th><th>float64</th><th>float64</th><th>float64</th><th>float64</th><th>float64</th><th>float64</th><th>float64</th><th>float64</th><th>float64</th><th>float64</th><th>float64</th><th>float64</th><th>float64</th><th>float64</th><th>float64</th><th>float64</th><th>float64</th><th>float64</th><th>float64</th><th>float64</th><th>float64</th><th>float64</th><th>float64</th><th>float64</th><th>float64</th><th>float64</th><th>float64</th><th>float64</th><th>float64</th><th>float64</th><th>float64</th><th>float64</th><th>float64</th><th>float64</th><th>float64</th><th>float64</th><th>float64</th><th>float64</th><th>float64</th><th>float64</th><th>float64</th><th>float64</th><th>float64</th><th>float64</th><th>float64</th><th>float64</th><th>float64</th><th>float64</th><th>float64</th><th>float64</th><th>float64</th><th>float64</th><th>float64</th><th>float64</th><th>float64</th><th>float64</th><th>float64</th><th>float64</th><th>float64</th><th>float64</th><th>float64</th><th>float64</th><th>float64</th><th>float64</th><th>float64</th><th>float64</th><th>float64</th><th>float64</th><th>float64</th><th>float64</th><th>float64</th><th>float64</th><th>float64</th><th>float64</th><th>float64</th><th>float64</th><th>float64</th><th>float64</th><th>float64</th><th>float64</th><th>float64</th><th>bytes29</th><th>bytes8</th><th>float64</th><th>float64</th><th>float64</th><th>float64</th><th>float64</th><th>float64</th><th>float64</th><th>float64</th><th>int64</th><th>int64</th><th>bytes6</th><th>float64</th><th>float64</th><th>float64</th><th>float64</th><th>float64</th><th>float64</th><th>float64</th><th>float64</th><th>float64</th><th>float64</th><th>bytes12</th><th>float64</th><th>float64</th><th>float64</th><th>bytes11</th><th>float64</th><th>float64</th><th>float64</th><th>bytes17</th><th>float64</th><th>float64</th><th>float64</th><th>float64</th><th>float64</th><th>float64</th><th>float64</th><th>float64</th><th>float64</th><th>float64</th><th>float64</th><th>float64</th><th>float64</th><th>float64</th><th>float64</th><th>float64</th><th>float64</th><th>float64</th><th>float64</th><th>float64</th><th>float64</th><th>float64</th><th>float64</th><th>float64</th><th>float64</th><th>float64</th><th>bytes6</th><th>float64</th><th>bytes6</th><th>float64</th><th>bytes6</th><th>float64</th><th>float64</th><th>float64</th><th>bytes6</th><th>float64</th><th>float64</th><th>float64</th><th>float64</th><th>float64</th><th>float64</th><th>float64</th><th>float64</th><th>float64</th><th>float64</th><th>float64</th><th>float64</th><th>bytes19</th><th>float64</th><th>bytes6</th><th>bytes18</th><th>float64</th><th>float64</th><th>float64</th><th>float64</th><th>bytes5</th><th>bytes13</th><th>float64</th><th>float64</th><th>float64</th><th>float64</th><th>float64</th><th>float64</th><th>float64</th><th>float64</th><th>float64</th><th>float64</th><th>bytes12</th><th>float64</th><th>float64</th><th>float64</th><th>bytes11</th><th>float64</th><th>float64</th><th>float64</th><th>bytes17</th><th>float64</th><th>float64</th><th>float64</th><th>float64</th><th>float64</th><th>float64</th><th>float64</th><th>float64</th><th>float64</th><th>float64</th><th>float64</th><th>float64</th><th>float64</th><th>float64</th><th>float64</th><th>float64</th><th>float64</th><th>float64</th><th>float64</th><th>float64</th><th>float64</th><th>float64</th><th>float64</th><th>float64</th><th>float64</th><th>bytes6</th><th>bytes6</th><th>bytes6</th><th>bytes6</th><th>bytes6</th><th>bytes6</th><th>float64</th><th>float64</th><th>bytes6</th><th>bytes6</th><th>float64</th><th>float64</th><th>float64</th><th>float64</th><th>float64</th><th>float64</th><th>float64</th><th>float64</th><th>float64</th><th>float64</th><th>float64</th><th>float64</th><th>bytes19</th><th>float64</th><th>bytes6</th><th>bytes18</th><th>bytes6</th><th>float64</th><th>float64</th><th>float64</th><th>float64</th><th>float64</th><th>float64</th><th>float64</th><th>float64</th><th>float64</th><th>float64</th><th>bytes12</th><th>float64</th><th>float64</th><th>float64</th><th>bytes11</th><th>float64</th><th>float64</th><th>float64</th><th>bytes17</th><th>float64</th><th>float64</th><th>float64</th><th>float64</th><th>float64</th><th>float64</th><th>float64</th><th>float64</th><th>float64</th><th>float64</th><th>float64</th><th>float64</th><th>float64</th><th>float64</th><th>float64</th><th>float64</th><th>float64</th><th>float64</th><th>float64</th><th>float64</th><th>float64</th><th>float64</th><th>float64</th><th>float64</th><th>float64</th><th>bytes6</th><th>bytes6</th><th>bytes6</th><th>bytes6</th><th>bytes6</th><th>bytes6</th><th>float64</th><th>float64</th><th>bytes6</th><th>bytes6</th><th>float64</th><th>float64</th><th>float64</th><th>float64</th><th>float64</th><th>float64</th><th>float64</th><th>float64</th><th>float64</th><th>float64</th><th>float64</th><th>float64</th><th>bytes9</th><th>float64</th><th>bytes6</th><th>bytes5</th><th>float64</th><th>float64</th><th>float64</th><th>float64</th><th>float64</th><th>float64</th><th>float64</th><th>float64</th><th>float64</th><th>float64</th><th>float64</th><th>float64</th><th>float64</th><th>bytes16</th><th>float64</th><th>float64</th><th>float64</th><th>float64</th><th>float64</th><th>float64</th><th>float64</th><th>float64</th><th>float64</th><th>float64</th><th>float64</th><th>float64</th><th>float64</th><th>float64</th><th>float64</th></tr></thead>\n",
       "<tr><td>XMM00000</td><td>34.20021848383457</td><td>-4.035254717769784</td><td>1.4408152873477065</td><td>2.1830800989306245</td><td>4.954963773188763</td><td>1.8595291376113887</td><td>-99.0</td><td>-99.0</td><td>-99.0</td><td>-99.0</td><td>34.20021848383457</td><td>-4.035254717769784</td><td>-99.0</td><td>-99.0</td><td>18.98105812072754</td><td>-99.0</td><td>-99.0</td><td>99.95</td><td>71356.15914916992</td><td>61875.442932128906</td><td>59076.19140625</td><td>27771.9296875</td><td>346.7841491699219</td><td>43237.4453125</td><td>24365.32421875</td><td>321.20465087890625</td><td>37188.9140625</td><td>23881.7421875</td><td>372.8218994140625</td><td>34821.62890625</td><td>-99.0</td><td>-99.0</td><td>1.737152338027954</td><td>-99.0</td><td>-99.0</td><td>-99.0</td><td>-99.0</td><td>-99.0</td><td>-99.0</td><td>1.1526556015014648</td><td>9.999999747378752e-06</td><td>0.5839061737060547</td><td>24.24330490926146</td><td>32.026281575384324</td><td>83.04193878173828</td><td>10.876439418964978</td><td>2.5263608932909896</td><td>-99.0</td><td>14.373428445404713</td><td>3.2051578279726485</td><td>-99.0</td><td>52.673118591308594</td><td>0.0</td><td>30.36881828308105</td><td>-99.0</td><td>-99.0</td><td>15.959312438964846</td><td>-99.0</td><td>-99.0</td><td>-99.0</td><td>-99.0</td><td>-99.0</td><td>-99.0</td><td>9.462833404541016</td><td>12.777531623840332</td><td>1.374449610710144</td><td>0.007927465190358684</td><td>0.00039163427033521566</td><td>0.007285110635356894</td><td>0.00025072028466657553</td><td>0.010956961573840046</td><td>0.0005899132848125139</td><td>0.009978553608120042</td><td>0.0003884946809074889</td><td>0.0031269744504243127</td><td>0.002254849299788475</td><td>0.0</td><td>0.0008721251506358385</td><td>-99.0</td><td>-99.0</td><td>-99.0</td><td>-99.0</td><td>-99.0</td><td>-99.0</td><td>-99.0</td><td>-99.0</td><td>0.003736863378435373</td><td>0.0005469851312227547</td><td>0.0036866117734462014</td><td>0.000271751603577286</td><td>2.2453267308265798e-14</td><td>-99.0</td><td>1.363306621843725e-13</td><td>-99.0</td><td>8.302499649651443e-15</td><td>1.4394556359664125e-15</td><td>-99.0</td><td>-99.0</td><td>-99.0</td><td>-99.0</td><td>-99.0</td><td>-99.0</td><td>-99.0</td><td>-99.0</td><td>-99.0</td><td>-99.0</td><td>-99.0</td><td>-99.0</td><td>-99.0</td><td>-99</td><td>-99</td><td>2.0</td><td>0.0</td><td>6.0</td><td>9.0</td><td>-99.0</td><td>-99.0</td><td>-99.0</td><td>-99.0</td><td>0</td><td>0</td><td>HSC</td><td>34.19923825748968</td><td>-4.036398035638016</td><td>5.415888642910719</td><td>4.589023748515532e-05</td><td>34.199179542305934</td><td>-4.036354738626922</td><td>701845.0</td><td>0.9960329136068607</td><td>-99.0</td><td>-99.0</td><td>-99</td><td>-99.0</td><td>-99.0</td><td>-99.0</td><td>-99</td><td>-99.0</td><td>34.19923825748968</td><td>-4.036398035638016</td><td>38549436015603964</td><td>0.00037407620817419553</td><td>19.31751303405769</td><td>19.031835062388414</td><td>0.008669480265365945</td><td>0.008469472526819828</td><td>19.28632466754581</td><td>18.98535015798232</td><td>18.84166304365423</td><td>18.41670142406381</td><td>0.016582037111047675</td><td>0.0158561618347036</td><td>0.051549823351023503</td><td>0.037983716024860635</td><td>17.80919411509627</td><td>0.09056686625431848</td><td>-99.0</td><td>-99.0</td><td>-99.0</td><td>-99.0</td><td>-99.0</td><td>-99.0</td><td>-99.0</td><td>-99.0</td><td>-99.0</td><td>-99.0</td><td>-99.0</td><td>-99</td><td>-99.0</td><td>-99</td><td>-99.0</td><td>-99</td><td>-99.0</td><td>-99.0</td><td>-99.0</td><td>-99</td><td>25.6269264</td><td>0.0997135192</td><td>24.9372559</td><td>0.114177056</td><td>24.431673</td><td>0.0615552925</td><td>23.7352695</td><td>0.07589601730000001</td><td>22.9920292</td><td>0.082646206</td><td>-99.0</td><td>-99.0</td><td>N/A</td><td>-99.0</td><td>-99</td><td>N/A</td><td>-99.0</td><td>-99.0</td><td>-99.0</td><td>-99.0</td><td>33212</td><td>-99</td><td>-99.0</td><td>-99.0</td><td>-99.0</td><td>-99.0</td><td>-99.0</td><td>-99.0</td><td>-99.0</td><td>-99.0</td><td>-99.0</td><td>-99.0</td><td>-99</td><td>-99.0</td><td>-99.0</td><td>-99.0</td><td>-99</td><td>-99.0</td><td>-99.0</td><td>-99.0</td><td>-99</td><td>-99.0</td><td>-99.0</td><td>-99.0</td><td>-99.0</td><td>-99.0</td><td>-99.0</td><td>-99.0</td><td>-99.0</td><td>-99.0</td><td>-99.0</td><td>-99.0</td><td>-99.0</td><td>-99.0</td><td>-99.0</td><td>-99.0</td><td>-99.0</td><td>-99.0</td><td>-99.0</td><td>-99.0</td><td>-99.0</td><td>-99.0</td><td>-99.0</td><td>-99.0</td><td>-99.0</td><td>-99.0</td><td>-99</td><td>-99</td><td>-99</td><td>-99</td><td>-99</td><td>-99</td><td>-99.0</td><td>-99.0</td><td>-99</td><td>-99</td><td>-99.0</td><td>-99.0</td><td>-99.0</td><td>-99.0</td><td>-99.0</td><td>-99.0</td><td>-99.0</td><td>-99.0</td><td>-99.0</td><td>-99.0</td><td>-99.0</td><td>-99.0</td><td>-99</td><td>-99.0</td><td>-99</td><td>-99</td><td>-99</td><td>-99.0</td><td>-99.0</td><td>-99.0</td><td>-99.0</td><td>-99.0</td><td>-99.0</td><td>-99.0</td><td>-99.0</td><td>-99.0</td><td>-99.0</td><td>-99</td><td>-99.0</td><td>-99.0</td><td>-99.0</td><td>-99</td><td>-99.0</td><td>-99.0</td><td>-99.0</td><td>-99</td><td>-99.0</td><td>-99.0</td><td>-99.0</td><td>-99.0</td><td>-99.0</td><td>-99.0</td><td>-99.0</td><td>-99.0</td><td>-99.0</td><td>-99.0</td><td>-99.0</td><td>-99.0</td><td>-99.0</td><td>-99.0</td><td>-99.0</td><td>-99.0</td><td>-99.0</td><td>-99.0</td><td>-99.0</td><td>-99.0</td><td>-99.0</td><td>-99.0</td><td>-99.0</td><td>-99.0</td><td>-99.0</td><td>-99</td><td>-99</td><td>-99</td><td>-99</td><td>-99</td><td>-99</td><td>-99.0</td><td>-99.0</td><td>-99</td><td>-99</td><td>-99.0</td><td>-99.0</td><td>-99.0</td><td>-99.0</td><td>-99.0</td><td>-99.0</td><td>-99.0</td><td>-99.0</td><td>-99.0</td><td>-99.0</td><td>-99.0</td><td>-99.0</td><td>-99</td><td>-99.0</td><td>-99</td><td>-99.0</td><td>-99.0</td><td>-99.0</td><td>-99.0</td><td>-99.0</td><td>-99.0</td><td>-99.0</td><td>-99.0</td><td>-99.0</td><td>-99.0</td><td>-99.0</td><td>-99.0</td><td>-99.0</td><td>-99.0</td><td>-99</td><td>-99.0</td><td>-99.0</td><td>-99.0</td><td>-99.0</td><td>-99.0</td><td>-99.0</td><td>-99.0</td><td>-99.0</td><td>-99.0</td><td>-99.0</td><td>-99.0</td><td>-99.0</td><td>-99.0</td><td>-99.0</td><td>-99.0</td></tr>\n",
       "</table>"
      ],
      "text/plain": [
       "<Row index=0 masked=True>\n",
       "  XID            RA               DEC              XPOSERR              R68                R99              EMLERR        SB_RA   SB_DEC  HB_RA   HB_DEC       FB_RA             FB_DEC       SB_DET_ML HB_DET_ML     FB_DET_ML     SB_RELIABILITY HB_RELIABILITY FB_RELIABILITY       SB_EXP            HB_EXP           FB_EXP        SB_EXPPN        SB_EXPM1        SB_EXPM2      HB_EXPPN         HB_EXPM1         HB_EXPM2      FB_EXPPN        FB_EXPM1        FB_EXPM2     SB_BKG  HB_BKG       FB_BKG      SB_BKGPN SB_BKGM1 SB_BKGM2 HB_BKGPN HB_BKGM1 HB_BKGM2      FB_BKGPN             FB_BKGM1            FB_BKGM2           SB_SCTS           HB_SCTS            FB_SCTS           SB_SCTPN           SB_SCTM1      SB_SCTM2      HB_SCTPN           HB_SCTM1      HB_SCTM2      FB_SCTPN      FB_SCTM1      FB_SCTM2     SB_SCTS_ERR HB_SCTS_ERR    FB_SCTS_ERR     SB_SCTPN_ERR SB_SCTM1_ERR SB_SCTM2_ERR HB_SCTPN_ERR HB_SCTM1_ERR HB_SCTM2_ERR    FB_SCTPN_ERR      FB_SCTM1_ERR       FB_SCTM2_ERR         SB_RATE              SB_RATEPN             SB_RATEM1             SB_RATEM2              HB_RATE              HB_RATEPN            HB_RATEM1             HB_RATEM2              FB_RATE             FB_RATEPN       FB_RATEM1       FB_RATEM2       SB_RATE_ERR SB_RATEPN_ERR SB_RATEM1_ERR SB_RATEM2_ERR HB_RATE_ERR HB_RATEPN_ERR HB_RATEM1_ERR HB_RATEM2_ERR     FB_RATE_ERR          FB_RATEPN_ERR         FB_RATEM1_ERR        FB_RATEM2_ERR            SB_FLUX         SB_FLUXERR        HB_FLUX        HB_FLUXERR        FB_FLUX              FB_FLUXERR          HR   HR_LERR HR_UERR BEHR_PN BEHR_LB_PN BEHR_UB_PN BEHR_M1 BEHR_LB_M1 BEHR_UB_M1 BEHR_M2 BEHR_LB_M2 BEHR_UB_M2    LX    CSCID  XXLID  NALL_SERVS NALL_VIDEO NALL_CFHT NALL_HSC NMATCH_LR_SERVS NMATCH_LR_VIDEO NMATCH_LR_CFHT NMATCH_LR_HSC LR_RELIABLE SERVS_BLENDING CATALOG       OIR_RA           OIR_DEC            XOIR_SEP               LR               SERVS_RA          SERVS_DEC      SERVS_ID      SERVS_MR      VIDEO_RA VIDEO_DEC VIDEO_ID VIDEO_MR CFHT_RA CFHT_DEC CFHT_ID CFHT_MR       HSC_RA           HSC_DEC             HSC_ID              HSC_MR             SERVS_MAG1        SERVS_MAG2        SERVS_MAG1_ERR       SERVS_MAG2_ERR        SWIRE_MAG1        SWIRE_MAG2        SWIRE_MAG3        SWIRE_MAG4       SWIRE_MAG1_ERR      SWIRE_MAG2_ERR      SWIRE_MAG3_ERR       SWIRE_MAG4_ERR       SWIRE_MIPS24     SWIRE_MIPS24_ERR  VIDEO_ZMAG VIDEO_ZMAGERR VIDEO_YMAG VIDEO_YMAGERR VIDEO_JMAG VIDEO_JMAGERR VIDEO_HMAG VIDEO_HMAGERR VIDEO_KSMAG VIDEO_KSMAGERR CFHT_UMAG CFHT_UMAGERR CFHT_GMAG CFHT_GMAGERR CFHT_RMAG CFHT_RMAGERR CFHT_IMAG CFHT_IMAGERR CFHT_ZMAG CFHT_ZMAGERR  HSC_GMAG  HSC_GMAGERR   HSC_RMAG  HSC_RMAGERR  HSC_IMAG HSC_IMAGERR   HSC_ZMAG      HSC_ZMAGERR      HSC_YMAG  HSC_YMAGERR ZSPEC_RA ZSPEC_DEC ZSPEC_ID  ZSPEC  ZSOURCE  ZOFLAG  ZPHOT  ZPHOT_UERR ZPHOT_LERR ZPHOT_QZ CLASS  SECONDARY_CATALOG SECONDARY_RA SECONDARY_DEC SECONDARY_SEP SECONDARY_LR SECONDARY_SERVS_RA SECONDARY_SERVS_DEC SECONDARY_SERVS_ID SECONDARY_SERVS_MR SECONDARY_VIDEO_RA SECONDARY_VIDEO_DEC SECONDARY_VIDEO_ID SECONDARY_VIDEO_MR SECONDARY_CFHT_RA SECONDARY_CFHT_DEC SECONDARY_CFHT_ID SECONDARY_CFHT_MR SECONDARY_HSC_RA SECONDARY_HSC_DEC SECONDARY_HSC_ID SECONDARY_HSC_MR SECONDARY_SERVS_MAG1 SECONDARY_SERVS_MAG2 SECONDARY_SERVS_MAG1_ERR SECONDARY_SERVS_MAG2_ERR SECONDARY_SWIRE_MAG1 SECONDARY_SWIRE_MAG2 SECONDARY_SWIRE_MAG3 SECONDARY_SWIRE_MAG4 SECONDARY_SWIRE_MAG1_ERR SECONDARY_SWIRE_MAG2_ERR SECONDARY_SWIRE_MAG3_ERR SECONDARY_SWIRE_MAG4_ERR SECONDARY_SWIRE_MIPS24 SECONDARY_SWIRE_MIPS24_ERR SECONDARY_VIDEO_ZMAG SECONDARY_VIDEO_ZMAGERR SECONDARY_VIDEO_YMAG SECONDARY_VIDEO_YMAGERR SECONDARY_VIDEO_JMAG SECONDARY_VIDEO_JMAGERR SECONDARY_VIDEO_HMAG SECONDARY_VIDEO_HMAGERR SECONDARY_VIDEO_KSMAG SECONDARY_VIDEO_KSMAGERR SECONDARY_CFHT_UMAG SECONDARY_CFHT_UMAGERR SECONDARY_CFHT_GMAG SECONDARY_CFHT_GMAGERR SECONDARY_CFHT_RMAG SECONDARY_CFHT_RMAGERR SECONDARY_CFHT_IMAG SECONDARY_CFHT_IMAGERR SECONDARY_CFHT_ZMAG SECONDARY_CFHT_ZMAGERR SECONDARY_HSC_GMAG SECONDARY_HSC_GMAGERR SECONDARY_HSC_RMAG SECONDARY_HSC_RMAGERR SECONDARY_HSC_IMAG SECONDARY_HSC_IMAGERR SECONDARY_HSC_ZMAG SECONDARY_HSC_ZMAGERR SECONDARY_HSC_YMAG SECONDARY_HSC_YMAGERR SECONDARY_ZSPEC_RA SECONDARY_ZSPEC_DEC SECONDARY_ZSPEC_ID SECONDARY_ZSPEC SECONDARY_ZSOURCE SECONDARY_ZOFLAG TERTIARY_CATALOG TERTIARY_RA TERTIARY_DEC TERTIARY_SEP TERTIARY_LR TERTIARY_SERVS_RA TERTIARY_SERVS_DEC TERTIARY_SERVS_ID TERTIARY_SERVS_MR TERTIARY_VIDEO_RA TERTIARY_VIDEO_DEC TERTIARY_VIDEO_ID TERTIARY_VIDEO_MR TERTIARY_CFHT_RA TERTIARY_CFHT_DEC TERTIARY_CFHT_ID TERTIARY_CFHT_MR TERTIARY_HSC_RA TERTIARY_HSC_DEC TERTIARY_HSC_ID TERTIARY_HSC_MR TERTIARY_SERVS_MAG1 TERTIARY_SERVS_MAG2 TERTIARY_SERVS_MAG1_ERR TERTIARY_SERVS_MAG2_ERR TERTIARY_SWIRE_MAG1 TERTIARY_SWIRE_MAG2 TERTIARY_SWIRE_MAG3 TERTIARY_SWIRE_MAG4 TERTIARY_SWIRE_MAG1_ERR TERTIARY_SWIRE_MAG2_ERR TERTIARY_SWIRE_MAG3_ERR TERTIARY_SWIRE_MAG4_ERR TERTIARY_SWIRE_MIPS24 TERTIARY_SWIRE_MIPS24_ERR TERTIARY_VIDEO_ZMAG TERTIARY_VIDEO_ZMAGERR TERTIARY_VIDEO_YMAG TERTIARY_VIDEO_YMAGERR TERTIARY_VIDEO_JMAG TERTIARY_VIDEO_JMAGERR TERTIARY_VIDEO_HMAG TERTIARY_VIDEO_HMAGERR TERTIARY_VIDEO_KSMAG TERTIARY_VIDEO_KSMAGERR TERTIARY_CFHT_UMAG TERTIARY_CFHT_UMAGERR TERTIARY_CFHT_GMAG TERTIARY_CFHT_GMAGERR TERTIARY_CFHT_RMAG TERTIARY_CFHT_RMAGERR TERTIARY_CFHT_IMAG TERTIARY_CFHT_IMAGERR TERTIARY_CFHT_ZMAG TERTIARY_CFHT_ZMAGERR TERTIARY_HSC_GMAG TERTIARY_HSC_GMAGERR TERTIARY_HSC_RMAG TERTIARY_HSC_RMAGERR TERTIARY_HSC_IMAG TERTIARY_HSC_IMAGERR TERTIARY_HSC_ZMAG TERTIARY_HSC_ZMAGERR TERTIARY_HSC_YMAG TERTIARY_HSC_YMAGERR TERTIARY_ZSPEC_RA TERTIARY_ZSPEC_DEC TERTIARY_ZSPEC_ID TERTIARY_ZSPEC TERTIARY_ZSOURCE TERTIARY_ZOFLAG SUPPLEMENTARY_SDSS_ID SUPPLEMENTARY_SDSS_RA SUPPLEMENTARY_SDSS_DEC SUPPLEMENTARY_SDSS_UMAG SUPPLEMENTARY_SDSS_UMAGERR SUPPLEMENTARY_SDSS_GMAG SUPPLEMENTARY_SDSS_GMAGERR SUPPLEMENTARY_SDSS_RMAG SUPPLEMENTARY_SDSS_RMAGERR SUPPLEMENTARY_SDSS_IMAG SUPPLEMENTARY_SDSS_IMAGERR SUPPLEMENTARY_SDSS_ZMAG SUPPLEMENTARY_SDSS_ZMAGERR SUPPLEMENTARY_2MASS_ID SUPPLEMENTARY_2MASS_RA SUPPLEMENTARY_2MASS_DEC SUPPLEMENTARY_2MASS_JMAG SUPPLEMENTARY_2MASS_JMAGERR SUPPLEMENTARY_2MASS_HMAG SUPPLEMENTARY_2MASS_HMAGERR SUPPLEMENTARY_2MASS_KSMAG SUPPLEMENTARY_2MASS_KSMAGERR SUPPLEMENTARY_DXS_ID SUPPLEMENTARY_DXS_RA SUPPLEMENTARY_DXS_DEC SUPPLEMENTARY_DXS_JMAG SUPPLEMENTARY_DXS_JMAGERR SUPPLEMENTARY_DXS_KSMAG SUPPLEMENTARY_DXS_KSMAGERR\n",
       " bytes8       float64           float64            float64            float64            float64           float64       float64 float64 float64 float64      float64           float64        float64   float64       float64         float64        float64        float64          float64           float64          float64        float64         float64         float64       float64          float64          float64       float64         float64         float64     float64 float64      float64      float64  float64  float64  float64  float64  float64       float64              float64             float64            float64           float64            float64           float64            float64       float64       float64            float64       float64       float64       float64       float64        float64     float64        float64         float64      float64      float64      float64      float64      float64         float64           float64            float64            float64               float64               float64               float64               float64               float64              float64               float64               float64              float64         float64         float64          float64      float64       float64       float64      float64      float64       float64       float64          float64               float64               float64              float64               float64          float64          float64         float64          float64               float64         float64 float64 float64 float64  float64    float64   float64  float64    float64   float64  float64    float64   float64 bytes29 bytes8  float64    float64    float64  float64      float64         float64        float64        float64       int64        int64       bytes6      float64           float64            float64             float64             float64            float64       float64       float64       float64   float64  bytes12  float64  float64 float64  bytes11 float64      float64           float64            bytes17             float64              float64           float64             float64              float64             float64           float64           float64           float64            float64             float64             float64              float64             float64            float64        float64      float64     float64      float64     float64      float64     float64      float64      float64      float64      float64     bytes6     float64     bytes6     float64     bytes6     float64    float64     float64     bytes6     float64     float64     float64     float64    float64    float64     float64         float64        float64     float64   float64   float64  bytes19  float64  bytes6 bytes18 float64  float64    float64   float64  bytes5      bytes13        float64       float64       float64      float64         float64             float64            float64            float64            float64             float64            bytes12            float64            float64           float64            bytes11           float64          float64           float64          bytes17          float64            float64              float64                float64                  float64                float64              float64              float64              float64                float64                  float64                  float64                  float64                 float64                  float64                 float64                float64               float64                float64               float64                float64               float64                float64                float64                float64                 bytes6               bytes6                bytes6               bytes6                bytes6               bytes6               float64              float64                bytes6               bytes6              float64              float64             float64              float64             float64              float64             float64              float64             float64              float64             float64             float64            bytes19           float64           bytes6          bytes18           bytes6        float64     float64      float64      float64        float64           float64            float64           float64           float64           float64            bytes12           float64          float64           float64          bytes11          float64          float64         float64          bytes17         float64           float64             float64               float64                 float64               float64             float64             float64             float64               float64                 float64                 float64                 float64                float64                 float64                float64              float64               float64              float64               float64              float64               float64              float64               float64                float64               bytes6               bytes6              bytes6               bytes6              bytes6               bytes6             float64              float64              bytes6               bytes6             float64            float64             float64            float64             float64            float64             float64            float64             float64            float64             float64           float64             bytes9         float64          bytes6           bytes5            float64               float64               float64                 float64                  float64                   float64                  float64                   float64                  float64                   float64                  float64                   float64                  float64                  bytes16                float64                 float64                 float64                    float64                   float64                    float64                    float64                    float64                  float64              float64               float64               float64                  float64                  float64                  float64          \n",
       "-------- ----------------- ------------------ ------------------ ------------------ ----------------- ------------------ ------- ------- ------- ------- ----------------- ------------------ --------- --------- ----------------- -------------- -------------- -------------- ----------------- ------------------ -------------- ------------- ----------------- ------------- -------------- ------------------ ------------- ------------- ----------------- -------------- ------- ------- ----------------- -------- -------- -------- -------- -------- -------- ------------------ --------------------- ------------------ ----------------- ------------------ ----------------- ------------------ ------------------ -------- ------------------ ------------------ -------- ------------------ -------- ----------------- ----------- ----------- ------------------ ------------ ------------ ------------ ------------ ------------ ------------ ----------------- ------------------ ----------------- -------------------- ---------------------- -------------------- ---------------------- -------------------- --------------------- -------------------- --------------------- --------------------- -------------------- --------- --------------------- ----------- ------------- ------------- ------------- ----------- ------------- ------------- ------------- -------------------- --------------------- --------------------- -------------------- ---------------------- ---------- --------------------- ---------- --------------------- ---------------------- ------- ------- ------- ------- ---------- ---------- ------- ---------- ---------- ------- ---------- ---------- ------- ------- ------ ---------- ---------- --------- -------- --------------- --------------- -------------- ------------- ----------- -------------- ------- ----------------- ------------------ ----------------- --------------------- ------------------ ------------------ -------- ------------------ -------- --------- -------- -------- ------- -------- ------- ------- ----------------- ------------------ ----------------- ---------------------- ----------------- ------------------ -------------------- -------------------- ----------------- ----------------- ----------------- ----------------- -------------------- ------------------ -------------------- -------------------- ----------------- ------------------- ---------- ------------- ---------- ------------- ---------- ------------- ---------- ------------- ----------- -------------- --------- ------------ --------- ------------ --------- ------------ --------- ------------ --------- ------------ ---------- ------------ ---------- ----------- --------- ------------ ---------- ------------------- ---------- ----------- -------- --------- -------- ------- ------- ------- ------- ---------- ---------- -------- ------ ----------------- ------------ ------------- ------------- ------------ ------------------ ------------------- ------------------ ------------------ ------------------ ------------------- ------------------ ------------------ ----------------- ------------------ ----------------- ----------------- ---------------- ----------------- ---------------- ---------------- -------------------- -------------------- ------------------------ ------------------------ -------------------- -------------------- -------------------- -------------------- ------------------------ ------------------------ ------------------------ ------------------------ ---------------------- -------------------------- -------------------- ----------------------- -------------------- ----------------------- -------------------- ----------------------- -------------------- ----------------------- --------------------- ------------------------ ------------------- ---------------------- ------------------- ---------------------- ------------------- ---------------------- ------------------- ---------------------- ------------------- ---------------------- ------------------ --------------------- ------------------ --------------------- ------------------ --------------------- ------------------ --------------------- ------------------ --------------------- ------------------ ------------------- ------------------ --------------- ----------------- ---------------- ---------------- ----------- ------------ ------------ ----------- ----------------- ------------------ ----------------- ----------------- ----------------- ------------------ ----------------- ----------------- ---------------- ----------------- ---------------- ---------------- --------------- ---------------- --------------- --------------- ------------------- ------------------- ----------------------- ----------------------- ------------------- ------------------- ------------------- ------------------- ----------------------- ----------------------- ----------------------- ----------------------- --------------------- ------------------------- ------------------- ---------------------- ------------------- ---------------------- ------------------- ---------------------- ------------------- ---------------------- -------------------- ----------------------- ------------------ --------------------- ------------------ --------------------- ------------------ --------------------- ------------------ --------------------- ------------------ --------------------- ----------------- -------------------- ----------------- -------------------- ----------------- -------------------- ----------------- -------------------- ----------------- -------------------- ----------------- ------------------ ----------------- -------------- ---------------- --------------- --------------------- --------------------- ---------------------- ----------------------- -------------------------- ----------------------- -------------------------- ----------------------- -------------------------- ----------------------- -------------------------- ----------------------- -------------------------- ---------------------- ---------------------- ----------------------- ------------------------ --------------------------- ------------------------ --------------------------- ------------------------- ---------------------------- -------------------- -------------------- --------------------- ---------------------- ------------------------- ----------------------- --------------------------\n",
       "XMM00000 34.20021848383457 -4.035254717769784 1.4408152873477065 2.1830800989306245 4.954963773188763 1.8595291376113887   -99.0   -99.0   -99.0   -99.0 34.20021848383457 -4.035254717769784     -99.0     -99.0 18.98105812072754          -99.0          -99.0          99.95 71356.15914916992 61875.442932128906 59076.19140625 27771.9296875 346.7841491699219 43237.4453125 24365.32421875 321.20465087890625 37188.9140625 23881.7421875 372.8218994140625 34821.62890625   -99.0   -99.0 1.737152338027954    -99.0    -99.0    -99.0    -99.0    -99.0    -99.0 1.1526556015014648 9.999999747378752e-06 0.5839061737060547 24.24330490926146 32.026281575384324 83.04193878173828 10.876439418964978 2.5263608932909896    -99.0 14.373428445404713 3.2051578279726485    -99.0 52.673118591308594      0.0 30.36881828308105       -99.0       -99.0 15.959312438964846        -99.0        -99.0        -99.0        -99.0        -99.0        -99.0 9.462833404541016 12.777531623840332 1.374449610710144 0.007927465190358684 0.00039163427033521566 0.007285110635356894 0.00025072028466657553 0.010956961573840046 0.0005899132848125139 0.009978553608120042 0.0003884946809074889 0.0031269744504243127 0.002254849299788475       0.0 0.0008721251506358385       -99.0         -99.0         -99.0         -99.0       -99.0         -99.0         -99.0         -99.0 0.003736863378435373 0.0005469851312227547 0.0036866117734462014 0.000271751603577286 2.2453267308265798e-14      -99.0 1.363306621843725e-13      -99.0 8.302499649651443e-15 1.4394556359664125e-15   -99.0   -99.0   -99.0   -99.0      -99.0      -99.0   -99.0      -99.0      -99.0   -99.0      -99.0      -99.0   -99.0     -99    -99        2.0        0.0       6.0      9.0           -99.0           -99.0          -99.0         -99.0           0              0     HSC 34.19923825748968 -4.036398035638016 5.415888642910719 4.589023748515532e-05 34.199179542305934 -4.036354738626922 701845.0 0.9960329136068607    -99.0     -99.0      -99    -99.0   -99.0    -99.0     -99   -99.0 34.19923825748968 -4.036398035638016 38549436015603964 0.00037407620817419553 19.31751303405769 19.031835062388414 0.008669480265365945 0.008469472526819828 19.28632466754581 18.98535015798232 18.84166304365423 18.41670142406381 0.016582037111047675 0.0158561618347036 0.051549823351023503 0.037983716024860635 17.80919411509627 0.09056686625431848      -99.0         -99.0      -99.0         -99.0      -99.0         -99.0      -99.0         -99.0       -99.0          -99.0     -99.0          -99     -99.0          -99     -99.0          -99     -99.0        -99.0     -99.0          -99 25.6269264 0.0997135192 24.9372559 0.114177056 24.431673 0.0615552925 23.7352695 0.07589601730000001 22.9920292 0.082646206    -99.0     -99.0      N/A   -99.0     -99     N/A   -99.0      -99.0      -99.0    -99.0  33212               -99        -99.0         -99.0         -99.0        -99.0              -99.0               -99.0              -99.0              -99.0              -99.0               -99.0                -99              -99.0             -99.0              -99.0               -99             -99.0            -99.0             -99.0              -99            -99.0                -99.0                -99.0                    -99.0                    -99.0                -99.0                -99.0                -99.0                -99.0                    -99.0                    -99.0                    -99.0                    -99.0                  -99.0                      -99.0                -99.0                   -99.0                -99.0                   -99.0                -99.0                   -99.0                -99.0                   -99.0                 -99.0                    -99.0                 -99                    -99                 -99                    -99                 -99                    -99               -99.0                  -99.0                 -99                    -99              -99.0                 -99.0              -99.0                 -99.0              -99.0                 -99.0              -99.0                 -99.0              -99.0                 -99.0              -99.0               -99.0                -99           -99.0               -99              -99              -99       -99.0        -99.0        -99.0       -99.0             -99.0              -99.0             -99.0             -99.0             -99.0              -99.0               -99             -99.0            -99.0             -99.0              -99            -99.0           -99.0            -99.0             -99           -99.0               -99.0               -99.0                   -99.0                   -99.0               -99.0               -99.0               -99.0               -99.0                   -99.0                   -99.0                   -99.0                   -99.0                 -99.0                     -99.0               -99.0                  -99.0               -99.0                  -99.0               -99.0                  -99.0               -99.0                  -99.0                -99.0                   -99.0                -99                   -99                -99                   -99                -99                   -99              -99.0                 -99.0                -99                   -99             -99.0                -99.0             -99.0                -99.0             -99.0                -99.0             -99.0                -99.0             -99.0                -99.0             -99.0              -99.0               -99          -99.0              -99           -99.0                 -99.0                 -99.0                  -99.0                   -99.0                      -99.0                   -99.0                      -99.0                   -99.0                      -99.0                   -99.0                      -99.0                   -99.0                      -99.0                    -99                  -99.0                   -99.0                    -99.0                       -99.0                    -99.0                       -99.0                     -99.0                        -99.0                -99.0                -99.0                 -99.0                  -99.0                     -99.0                   -99.0                      -99.0"
      ]
     },
     "execution_count": 2,
     "metadata": {},
     "output_type": "execute_result"
    }
   ],
   "source": [
    "xservs_catalog = table.Table.read('./data/tableA.v01.fits')\n",
    "# xservs_catalog.columns\n",
    "print(len(xservs_catalog))\n",
    "xservs_catalog[0]"
   ]
  },
  {
   "cell_type": "code",
   "execution_count": 3,
   "metadata": {},
   "outputs": [
    {
     "data": {
      "text/plain": [
       "(1.2905438341594184, 0.29617473865459276)"
      ]
     },
     "execution_count": 3,
     "metadata": {},
     "output_type": "execute_result"
    }
   ],
   "source": [
    "np.mean(xservs_catalog['XPOSERR'][xservs_catalog['XPOSERR'] > 0]), np.std(xservs_catalog['XPOSERR'][xservs_catalog['XPOSERR'] > 0])"
   ]
  },
  {
   "cell_type": "code",
   "execution_count": 4,
   "metadata": {},
   "outputs": [
    {
     "name": "stdout",
     "output_type": "stream",
     "text": [
      "1767\n"
     ]
    },
    {
     "data": {
      "text/html": [
       "<i>Table length=107</i>\n",
       "<table id=\"table4475222960\" class=\"table-striped table-bordered table-condensed\">\n",
       "<thead><tr><th>ZPHOT</th><th>ZPHOT_UERR</th><th>ZPHOT_LERR</th><th>ZSPEC</th></tr></thead>\n",
       "<thead><tr><th>float64</th><th>float64</th><th>float64</th><th>float64</th></tr></thead>\n",
       "<tr><td>0.01</td><td>0.505</td><td>0.026000000000000002</td><td>-99.0</td></tr>\n",
       "<tr><td>0.03</td><td>2.28</td><td>0.13699999999999998</td><td>0.017700599999999997</td></tr>\n",
       "<tr><td>1.307</td><td>3.036</td><td>2.55</td><td>-99.0</td></tr>\n",
       "<tr><td>0.01</td><td>0.099</td><td>0.017</td><td>-99.0</td></tr>\n",
       "<tr><td>1.33</td><td>2.75</td><td>1.453</td><td>-99.0</td></tr>\n",
       "<tr><td>0.02</td><td>0.586</td><td>0.04</td><td>0.03232124</td></tr>\n",
       "<tr><td>0.01</td><td>1.3940000000000001</td><td>0.075</td><td>-99.0</td></tr>\n",
       "<tr><td>1.261</td><td>3.202</td><td>1.284</td><td>-99.0</td></tr>\n",
       "<tr><td>0.01</td><td>0.1</td><td>0.02</td><td>-99.0</td></tr>\n",
       "<tr><td>0.01</td><td>0.045</td><td>0.013000000000000001</td><td>-99.0</td></tr>\n",
       "<tr><td>...</td><td>...</td><td>...</td><td>...</td></tr>\n",
       "<tr><td>1.239</td><td>5.442</td><td>3.8280000000000003</td><td>-99.0</td></tr>\n",
       "<tr><td>1.33</td><td>3.361</td><td>1.3319999999999999</td><td>-99.0</td></tr>\n",
       "<tr><td>0.02</td><td>0.115</td><td>0.021</td><td>-99.0</td></tr>\n",
       "<tr><td>1.5230000000000001</td><td>2.344</td><td>1.535</td><td>-99.0</td></tr>\n",
       "<tr><td>1.871</td><td>2.542</td><td>1.883</td><td>2.0464</td></tr>\n",
       "<tr><td>1.239</td><td>3.36</td><td>1.272</td><td>-99.0</td></tr>\n",
       "<tr><td>0.02</td><td>0.547</td><td>0.036000000000000004</td><td>-99.0</td></tr>\n",
       "<tr><td>0.051</td><td>0.528</td><td>0.067</td><td>-99.0</td></tr>\n",
       "<tr><td>0.7290000000000001</td><td>3.407</td><td>0.813</td><td>-99.0</td></tr>\n",
       "<tr><td>1.261</td><td>3.1310000000000002</td><td>1.288</td><td>-99.0</td></tr>\n",
       "</table>"
      ],
      "text/plain": [
       "<Table length=107>\n",
       "      ZPHOT            ZPHOT_UERR          ZPHOT_LERR             ZSPEC        \n",
       "     float64            float64             float64              float64       \n",
       "------------------ ------------------ -------------------- --------------------\n",
       "              0.01              0.505 0.026000000000000002                -99.0\n",
       "              0.03               2.28  0.13699999999999998 0.017700599999999997\n",
       "             1.307              3.036                 2.55                -99.0\n",
       "              0.01              0.099                0.017                -99.0\n",
       "              1.33               2.75                1.453                -99.0\n",
       "              0.02              0.586                 0.04           0.03232124\n",
       "              0.01 1.3940000000000001                0.075                -99.0\n",
       "             1.261              3.202                1.284                -99.0\n",
       "              0.01                0.1                 0.02                -99.0\n",
       "              0.01              0.045 0.013000000000000001                -99.0\n",
       "               ...                ...                  ...                  ...\n",
       "             1.239              5.442   3.8280000000000003                -99.0\n",
       "              1.33              3.361   1.3319999999999999                -99.0\n",
       "              0.02              0.115                0.021                -99.0\n",
       "1.5230000000000001              2.344                1.535                -99.0\n",
       "             1.871              2.542                1.883               2.0464\n",
       "             1.239               3.36                1.272                -99.0\n",
       "              0.02              0.547 0.036000000000000004                -99.0\n",
       "             0.051              0.528                0.067                -99.0\n",
       "0.7290000000000001              3.407                0.813                -99.0\n",
       "             1.261 3.1310000000000002                1.288                -99.0"
      ]
     },
     "execution_count": 4,
     "metadata": {},
     "output_type": "execute_result"
    }
   ],
   "source": [
    "# xservs_catalog.columns[109]\n",
    "# str(xservs_catalog['CLASS'][10])[1]\n",
    "print(len(xservs_catalog[xservs_catalog['ZSPEC']>0]))\n",
    "xservs_catalog['ZPHOT', 'ZPHOT_UERR', 'ZPHOT_LERR', 'ZSPEC'][xservs_catalog['ZPHOT_LERR'] > xservs_catalog['ZPHOT']]"
   ]
  },
  {
   "cell_type": "code",
   "execution_count": 5,
   "metadata": {},
   "outputs": [
    {
     "data": {
      "image/png": "[encoded data removed]",
      "text/plain": [
       "<Figure size 432x288 with 1 Axes>"
      ]
     },
     "metadata": {
      "needs_background": "light"
     },
     "output_type": "display_data"
    }
   ],
   "source": [
    "fig, axs = plt.subplots()\n",
    "zphots = xservs_catalog['ZPHOT']\n",
    "has_zphot = zphots > 0\n",
    "plt.plot(xservs_catalog['ZPHOT_UERR'][has_zphot]-zphots[has_zphot], zphots[has_zphot] - xservs_catalog['ZPHOT_LERR'][has_zphot], marker='o', ms=1, ls='', alpha=0.5)\n",
    "axs.set_xscale('log')\n",
    "axs.set_yscale('log')\n",
    "axs.set_xlabel('Upper error on ZPHOT')\n",
    "axs.set_ylabel('Lower errer on ZPHOT')\n",
    "line = np.logspace(-3, np.log10(0.2))\n",
    "axs.plot(line, len(line)*[0.2], '--', color='xkcd:steel gray')\n",
    "axs.plot(len(line)*[0.2], line, '--', color='xkcd:steel gray')\n",
    "np.mean(xservs_catalog['ZPHOT_UERR'][has_zphot]-zphots[has_zphot]), np.mean(zphots[has_zphot] - xservs_catalog['ZPHOT_LERR'][has_zphot])\n",
    "robust_z_values = (xservs_catalog['ZPHOT_UERR'][has_zphot]-zphots[has_zphot] < 0.2) & (zphots[has_zphot] - xservs_catalog['ZPHOT_LERR'][has_zphot] < 0.2)\n",
    "# xservs_catalog = xservs_catalog[robust_z_values]"
   ]
  },
  {
   "cell_type": "code",
   "execution_count": 6,
   "metadata": {},
   "outputs": [
    {
     "name": "stdout",
     "output_type": "stream",
     "text": [
      "1625\n"
     ]
    }
   ],
   "source": [
    "lum_selected_agn = [str(selection)[1] == '2' for selection in xservs_catalog['CLASS']]\n",
    "print(np.sum(lum_selected_agn))"
   ]
  },
  {
   "cell_type": "code",
   "execution_count": 7,
   "metadata": {},
   "outputs": [
    {
     "name": "stdout",
     "output_type": "stream",
     "text": [
      "5242\n",
      "4505\n"
     ]
    }
   ],
   "source": [
    "cosmo = af.setup_cosmology()\n",
    "print(len(xservs_catalog))\n",
    "\n",
    "xservs_catalog = xservs_catalog[(xservs_catalog['ZPHOT'] > 0 ) | (xservs_catalog['ZSPEC'] > 0)]\n",
    "print(len(xservs_catalog))\n",
    "\n",
    "import astropy.units as u\n",
    "\n",
    "# spectral_index = np.log10(xservs_catalog['SB_FLUX'].data/xservs_catalog['HB_FLUX'].data) / np.log10(6/1.25)\n",
    "spectral_index = 1.7\n",
    "\n",
    "z = np.array([row['ZSPEC'] if row['ZSPEC'] > 0 else row['ZPHOT'] for row in xservs_catalog])\n",
    "l = 4 * np.pi * cosmo.luminosity_distance(z).to(u.cm).value**2 * xservs_catalog['FB_FLUX'] * (1 + z)**(-1 + spectral_index)"
   ]
  },
  {
   "cell_type": "code",
   "execution_count": 8,
   "metadata": {},
   "outputs": [
    {
     "ename": "ValueError",
     "evalue": "x and y must be the same size",
     "output_type": "error",
     "traceback": [
      "\u001b[0;31m---------------------------------------------------------------------------\u001b[0m",
      "\u001b[0;31mValueError\u001b[0m                                Traceback (most recent call last)",
      "\u001b[0;32m<ipython-input-8-176157272b0d>\u001b[0m in \u001b[0;36m<module>\u001b[0;34m\u001b[0m\n\u001b[1;32m      1\u001b[0m \u001b[0mnp\u001b[0m\u001b[0;34m.\u001b[0m\u001b[0mmean\u001b[0m\u001b[0;34m(\u001b[0m\u001b[0mspectral_index\u001b[0m\u001b[0;34m)\u001b[0m\u001b[0;34m,\u001b[0m \u001b[0mnp\u001b[0m\u001b[0;34m.\u001b[0m\u001b[0mstd\u001b[0m\u001b[0;34m(\u001b[0m\u001b[0mspectral_index\u001b[0m\u001b[0;34m)\u001b[0m\u001b[0;34m\u001b[0m\u001b[0;34m\u001b[0m\u001b[0m\n\u001b[0;32m----> 2\u001b[0;31m \u001b[0mplt\u001b[0m\u001b[0;34m.\u001b[0m\u001b[0mscatter\u001b[0m\u001b[0;34m(\u001b[0m\u001b[0mxservs_catalog\u001b[0m\u001b[0;34m[\u001b[0m\u001b[0;34m'FB_FLUX'\u001b[0m\u001b[0;34m]\u001b[0m\u001b[0;34m.\u001b[0m\u001b[0mdata\u001b[0m\u001b[0;34m,\u001b[0m \u001b[0mspectral_index\u001b[0m\u001b[0;34m)\u001b[0m\u001b[0;34m\u001b[0m\u001b[0;34m\u001b[0m\u001b[0m\n\u001b[0m\u001b[1;32m      3\u001b[0m \u001b[0max\u001b[0m \u001b[0;34m=\u001b[0m \u001b[0mplt\u001b[0m\u001b[0;34m.\u001b[0m\u001b[0mgca\u001b[0m\u001b[0;34m(\u001b[0m\u001b[0;34m)\u001b[0m\u001b[0;34m\u001b[0m\u001b[0;34m\u001b[0m\u001b[0m\n\u001b[1;32m      4\u001b[0m \u001b[0max\u001b[0m\u001b[0;34m.\u001b[0m\u001b[0mset_xscale\u001b[0m\u001b[0;34m(\u001b[0m\u001b[0;34m'log'\u001b[0m\u001b[0;34m)\u001b[0m\u001b[0;34m\u001b[0m\u001b[0;34m\u001b[0m\u001b[0m\n\u001b[1;32m      5\u001b[0m \u001b[0max\u001b[0m\u001b[0;34m.\u001b[0m\u001b[0mset_xlim\u001b[0m\u001b[0;34m(\u001b[0m\u001b[0mleft\u001b[0m\u001b[0;34m=\u001b[0m\u001b[0;36m1e-15\u001b[0m\u001b[0;34m,\u001b[0m \u001b[0mright\u001b[0m\u001b[0;34m=\u001b[0m\u001b[0;36m1e-11\u001b[0m\u001b[0;34m)\u001b[0m\u001b[0;34m\u001b[0m\u001b[0;34m\u001b[0m\u001b[0m\n",
      "\u001b[0;32m/usr/local/lib/python3.8/site-packages/matplotlib/pyplot.py\u001b[0m in \u001b[0;36mscatter\u001b[0;34m(x, y, s, c, marker, cmap, norm, vmin, vmax, alpha, linewidths, verts, edgecolors, plotnonfinite, data, **kwargs)\u001b[0m\n\u001b[1;32m   2841\u001b[0m         \u001b[0mvmin\u001b[0m\u001b[0;34m=\u001b[0m\u001b[0;32mNone\u001b[0m\u001b[0;34m,\u001b[0m \u001b[0mvmax\u001b[0m\u001b[0;34m=\u001b[0m\u001b[0;32mNone\u001b[0m\u001b[0;34m,\u001b[0m \u001b[0malpha\u001b[0m\u001b[0;34m=\u001b[0m\u001b[0;32mNone\u001b[0m\u001b[0;34m,\u001b[0m \u001b[0mlinewidths\u001b[0m\u001b[0;34m=\u001b[0m\u001b[0;32mNone\u001b[0m\u001b[0;34m,\u001b[0m \u001b[0mverts\u001b[0m\u001b[0;34m=\u001b[0m\u001b[0;32mNone\u001b[0m\u001b[0;34m,\u001b[0m\u001b[0;34m\u001b[0m\u001b[0;34m\u001b[0m\u001b[0m\n\u001b[1;32m   2842\u001b[0m         edgecolors=None, *, plotnonfinite=False, data=None, **kwargs):\n\u001b[0;32m-> 2843\u001b[0;31m     __ret = gca().scatter(\n\u001b[0m\u001b[1;32m   2844\u001b[0m         \u001b[0mx\u001b[0m\u001b[0;34m,\u001b[0m \u001b[0my\u001b[0m\u001b[0;34m,\u001b[0m \u001b[0ms\u001b[0m\u001b[0;34m=\u001b[0m\u001b[0ms\u001b[0m\u001b[0;34m,\u001b[0m \u001b[0mc\u001b[0m\u001b[0;34m=\u001b[0m\u001b[0mc\u001b[0m\u001b[0;34m,\u001b[0m \u001b[0mmarker\u001b[0m\u001b[0;34m=\u001b[0m\u001b[0mmarker\u001b[0m\u001b[0;34m,\u001b[0m \u001b[0mcmap\u001b[0m\u001b[0;34m=\u001b[0m\u001b[0mcmap\u001b[0m\u001b[0;34m,\u001b[0m \u001b[0mnorm\u001b[0m\u001b[0;34m=\u001b[0m\u001b[0mnorm\u001b[0m\u001b[0;34m,\u001b[0m\u001b[0;34m\u001b[0m\u001b[0;34m\u001b[0m\u001b[0m\n\u001b[1;32m   2845\u001b[0m         \u001b[0mvmin\u001b[0m\u001b[0;34m=\u001b[0m\u001b[0mvmin\u001b[0m\u001b[0;34m,\u001b[0m \u001b[0mvmax\u001b[0m\u001b[0;34m=\u001b[0m\u001b[0mvmax\u001b[0m\u001b[0;34m,\u001b[0m \u001b[0malpha\u001b[0m\u001b[0;34m=\u001b[0m\u001b[0malpha\u001b[0m\u001b[0;34m,\u001b[0m \u001b[0mlinewidths\u001b[0m\u001b[0;34m=\u001b[0m\u001b[0mlinewidths\u001b[0m\u001b[0;34m,\u001b[0m\u001b[0;34m\u001b[0m\u001b[0;34m\u001b[0m\u001b[0m\n",
      "\u001b[0;32m/usr/local/lib/python3.8/site-packages/matplotlib/__init__.py\u001b[0m in \u001b[0;36minner\u001b[0;34m(ax, data, *args, **kwargs)\u001b[0m\n\u001b[1;32m   1597\u001b[0m     \u001b[0;32mdef\u001b[0m \u001b[0minner\u001b[0m\u001b[0;34m(\u001b[0m\u001b[0max\u001b[0m\u001b[0;34m,\u001b[0m \u001b[0;34m*\u001b[0m\u001b[0margs\u001b[0m\u001b[0;34m,\u001b[0m \u001b[0mdata\u001b[0m\u001b[0;34m=\u001b[0m\u001b[0;32mNone\u001b[0m\u001b[0;34m,\u001b[0m \u001b[0;34m**\u001b[0m\u001b[0mkwargs\u001b[0m\u001b[0;34m)\u001b[0m\u001b[0;34m:\u001b[0m\u001b[0;34m\u001b[0m\u001b[0;34m\u001b[0m\u001b[0m\n\u001b[1;32m   1598\u001b[0m         \u001b[0;32mif\u001b[0m \u001b[0mdata\u001b[0m \u001b[0;32mis\u001b[0m \u001b[0;32mNone\u001b[0m\u001b[0;34m:\u001b[0m\u001b[0;34m\u001b[0m\u001b[0;34m\u001b[0m\u001b[0m\n\u001b[0;32m-> 1599\u001b[0;31m             \u001b[0;32mreturn\u001b[0m \u001b[0mfunc\u001b[0m\u001b[0;34m(\u001b[0m\u001b[0max\u001b[0m\u001b[0;34m,\u001b[0m \u001b[0;34m*\u001b[0m\u001b[0mmap\u001b[0m\u001b[0;34m(\u001b[0m\u001b[0msanitize_sequence\u001b[0m\u001b[0;34m,\u001b[0m \u001b[0margs\u001b[0m\u001b[0;34m)\u001b[0m\u001b[0;34m,\u001b[0m \u001b[0;34m**\u001b[0m\u001b[0mkwargs\u001b[0m\u001b[0;34m)\u001b[0m\u001b[0;34m\u001b[0m\u001b[0;34m\u001b[0m\u001b[0m\n\u001b[0m\u001b[1;32m   1600\u001b[0m \u001b[0;34m\u001b[0m\u001b[0m\n\u001b[1;32m   1601\u001b[0m         \u001b[0mbound\u001b[0m \u001b[0;34m=\u001b[0m \u001b[0mnew_sig\u001b[0m\u001b[0;34m.\u001b[0m\u001b[0mbind\u001b[0m\u001b[0;34m(\u001b[0m\u001b[0max\u001b[0m\u001b[0;34m,\u001b[0m \u001b[0;34m*\u001b[0m\u001b[0margs\u001b[0m\u001b[0;34m,\u001b[0m \u001b[0;34m**\u001b[0m\u001b[0mkwargs\u001b[0m\u001b[0;34m)\u001b[0m\u001b[0;34m\u001b[0m\u001b[0;34m\u001b[0m\u001b[0m\n",
      "\u001b[0;32m/usr/local/lib/python3.8/site-packages/matplotlib/axes/_axes.py\u001b[0m in \u001b[0;36mscatter\u001b[0;34m(self, x, y, s, c, marker, cmap, norm, vmin, vmax, alpha, linewidths, verts, edgecolors, plotnonfinite, **kwargs)\u001b[0m\n\u001b[1;32m   4441\u001b[0m         \u001b[0my\u001b[0m \u001b[0;34m=\u001b[0m \u001b[0mnp\u001b[0m\u001b[0;34m.\u001b[0m\u001b[0mma\u001b[0m\u001b[0;34m.\u001b[0m\u001b[0mravel\u001b[0m\u001b[0;34m(\u001b[0m\u001b[0my\u001b[0m\u001b[0;34m)\u001b[0m\u001b[0;34m\u001b[0m\u001b[0;34m\u001b[0m\u001b[0m\n\u001b[1;32m   4442\u001b[0m         \u001b[0;32mif\u001b[0m \u001b[0mx\u001b[0m\u001b[0;34m.\u001b[0m\u001b[0msize\u001b[0m \u001b[0;34m!=\u001b[0m \u001b[0my\u001b[0m\u001b[0;34m.\u001b[0m\u001b[0msize\u001b[0m\u001b[0;34m:\u001b[0m\u001b[0;34m\u001b[0m\u001b[0;34m\u001b[0m\u001b[0m\n\u001b[0;32m-> 4443\u001b[0;31m             \u001b[0;32mraise\u001b[0m \u001b[0mValueError\u001b[0m\u001b[0;34m(\u001b[0m\u001b[0;34m\"x and y must be the same size\"\u001b[0m\u001b[0;34m)\u001b[0m\u001b[0;34m\u001b[0m\u001b[0;34m\u001b[0m\u001b[0m\n\u001b[0m\u001b[1;32m   4444\u001b[0m \u001b[0;34m\u001b[0m\u001b[0m\n\u001b[1;32m   4445\u001b[0m         \u001b[0;32mif\u001b[0m \u001b[0ms\u001b[0m \u001b[0;32mis\u001b[0m \u001b[0;32mNone\u001b[0m\u001b[0;34m:\u001b[0m\u001b[0;34m\u001b[0m\u001b[0;34m\u001b[0m\u001b[0m\n",
      "\u001b[0;31mValueError\u001b[0m: x and y must be the same size"
     ]
    },
    {
     "data": {
      "image/png": "[encoded data removed]",
      "text/plain": [
       "<Figure size 432x288 with 1 Axes>"
      ]
     },
     "metadata": {
      "needs_background": "light"
     },
     "output_type": "display_data"
    }
   ],
   "source": [
    "np.mean(spectral_index), np.std(spectral_index)\n",
    "plt.scatter(xservs_catalog['FB_FLUX'].data, spectral_index)\n",
    "ax = plt.gca()\n",
    "ax.set_xscale('log')\n",
    "ax.set_xlim(left=1e-15, right=1e-11)\n",
    "xservs_catalog['FB_FLUX'].data\n"
   ]
  },
  {
   "cell_type": "code",
   "execution_count": null,
   "metadata": {},
   "outputs": [],
   "source": [
    "z_sample_min = 0.5\n",
    "z_sample_max = 4\n",
    "l_sample_min = 3e42\n",
    "l_sample_max = 3e45\n",
    "num_bins_z = 10\n",
    "num_bins_l = 15\n",
    "\n",
    "# compare to ir\n",
    "z_sample_min = 0.5\n",
    "z_sample_max = 4\n",
    "l_sample_min = 3e42\n",
    "l_sample_max = 3e46\n",
    "num_bins_z = 10\n",
    "num_bins_l = 15\n",
    "\n",
    "\n"
   ]
  },
  {
   "cell_type": "code",
   "execution_count": null,
   "metadata": {},
   "outputs": [],
   "source": [
    "good_redshift_and_l_selected = (l_sample_min < l) & (l_sample_max > l) & (z_sample_min < z) & (z_sample_max > z)\n",
    "l = l[good_redshift_and_l_selected]\n",
    "z = z[good_redshift_and_l_selected]\n",
    "print(len(z))\n",
    "# redshift range \n",
    "z_bins = np.logspace(np.log10(z_sample_min), np.log10(z_sample_max), num=num_bins_z)\n",
    "print(z_bins)\n",
    "l_bins = np.logspace(np.log10(l_sample_min), np.log10(l_sample_max), num=num_bins_l)\n",
    "\n",
    "# print(len(z))\n",
    "fig, ax = vmax.l_z_histo(l, z, l_bins, z_bins, band='2-10 keV X-ray', unit=r'erg s$^{-1}$')"
   ]
  },
  {
   "cell_type": "code",
   "execution_count": null,
   "metadata": {
    "scrolled": true
   },
   "outputs": [],
   "source": [
    "flux_limit = 6.5e-15\n",
    "zmax = vmax.compute_zmax(l, z, cosmo, flux_limit, zspacing=0.5, jack_version=False)\n",
    "zmin = np.array([0]*len(zmax))\n",
    "\n",
    "full_fluxes = xservs_catalog['FB_FLUX']\n",
    "# print(full_fluxes)\n",
    "coverage_correction = vmax.coverage_correction(full_fluxes, full_fluxes[good_redshift_and_l_selected])\n",
    "\n",
    "image_file = './data/chen2018-xmmlss-data-products-2018-06-08/xexp_merged.full.v01.fits'\n",
    "wcs, hdu = utils.load_wcs(image_file)\n",
    "cov_function = vmax.coverage_function(hdu.data, wcs, 3824, 2694, detector_area=36, photon_energy=7e-9)\n",
    "\n",
    "def cov_func(l, z):\n",
    "    \n",
    "    flux = l / (4 * np.pi * cosmo.luminosity_distance(z).to(u.cm).value**2)\n",
    "#     print(flux[0, 0], cov_function(flux[0, 0]))\n",
    "    return coverage_correction(flux) * cov_function(flux)\n",
    "\n",
    "vmax_vals = vmax.compute_binned_vmax_values(l, (z, zmin, zmax), l_bins, z_bins, cosmo, bin_z_bounds=False, coverage=cov_func)"
   ]
  },
  {
   "cell_type": "code",
   "execution_count": null,
   "metadata": {},
   "outputs": [],
   "source": [
    "import importlib\n",
    "importlib.reload(vmax)\n",
    "lit_data = {}\n",
    "l_limits = 4 * np.pi * cosmo.luminosity_distance((z_bins[:-1]+z_bins[1:])/2)**2 * flux_limit/(u.cm**2)\n",
    "l_limits = l_limits.decompose()\n",
    "lf_vals, lf_errs = vmax.compute_lf_values(l, z, vmax_vals, z_bins, l_bins)\n"
   ]
  },
  {
   "cell_type": "code",
   "execution_count": null,
   "metadata": {},
   "outputs": [],
   "source": [
    "aird_lade_params_central = {'A': 10**-4.53, \n",
    "                               'gamma1':0.62, \n",
    "                               'gamma2':3.01,\n",
    "                               'Lstar': 10**44.77,\n",
    "                               'zc':0.75,\n",
    "                               'p1':6.36,\n",
    "                               'p2':-0.24,\n",
    "                               'd':-0.19\n",
    "                              }\n",
    "aird_lade_params_min = {'A': 10**-4.46, \n",
    "                               'gamma1':0.6, \n",
    "                               'gamma2':2.9,\n",
    "                               'Lstar': 10**44.71,\n",
    "                               'zc':0.66,\n",
    "                               'p1':5.96,\n",
    "                               'p2':-0.51,\n",
    "                               'd':-.21\n",
    "                              }\n",
    "aird_lade_params_max = {'A': 10**-4.6, \n",
    "                               'gamma1':0.64, \n",
    "                               'gamma2':3.12,\n",
    "                               'Lstar':10**44.83,\n",
    "                               'zc':0.84,\n",
    "                               'p1':6.76,\n",
    "                               'p2':0.03,\n",
    "                               'd':-0.17\n",
    "                              }\n",
    "\n",
    "center_zbins = (z_bins[1:] + z_bins[:-1]) / 2\n",
    "ls = np.logspace(43, 45.2, num=50)\n",
    "aird_mid = af.LADE(ls, center_zbins, **aird_lade_params_central, no_k=True)\n",
    "aird_high = af.LADE(ls, center_zbins, **aird_lade_params_max, no_k=True)\n",
    "aird_low = af.LADE(ls, center_zbins, **aird_lade_params_min, no_k=True)\n",
    "# print(ranalli_mid[0])\n",
    "lit_data['Aird LADE'] = list(zip(aird_mid, aird_high, aird_low))\n",
    "# np.array(lit_data['Ranalli LADE'])[0], np.array(lit_data['Aird 2010'])[0]"
   ]
  },
  {
   "cell_type": "code",
   "execution_count": null,
   "metadata": {},
   "outputs": [],
   "source": [
    "importlib.reload(utils)\n",
    "importlib.reload(vmax)\n",
    "ranalli_lade_params_central = {'A': 10**-3.53, \n",
    "                               'gamma1':0.16, \n",
    "                               'gamma2':2.48,\n",
    "                               'Lstar': 10**42.72,\n",
    "                               'zc':1.72,\n",
    "                               'p1':4.67,\n",
    "                               'p2':-0.3,\n",
    "                               'd':-0.29\n",
    "                              }\n",
    "ranalli_lade_params_min = {'A': 10**-3.65, \n",
    "                               'gamma1':0.09, \n",
    "                               'gamma2':2.37,\n",
    "                               'Lstar': 10**42.65,\n",
    "                               'zc':1.53,\n",
    "                               'p1':4.35,\n",
    "                               'p2':-0.91,\n",
    "                               'd':-0.31\n",
    "                              }\n",
    "ranalli_lade_params_max = {'A': 10**-3.48, \n",
    "                               'gamma1':0.23, \n",
    "                               'gamma2':2.6,\n",
    "                               'Lstar':10**42.82,\n",
    "                               'zc':1.93,\n",
    "                               'p1':5.0,\n",
    "                               'p2':0.02,\n",
    "                               'd':-0.26\n",
    "                              }\n",
    "\n",
    "center_zbins = (z_bins[1:] + z_bins[:-1]) / 2\n",
    "ls = np.logspace(43, 45.2, num=50)\n",
    "ranalli_mid = af.LADE(ls, center_zbins, **ranalli_lade_params_central)\n",
    "ranalli_high = af.LADE(ls, center_zbins, **ranalli_lade_params_max)\n",
    "ranalli_low = af.LADE(ls, center_zbins, **ranalli_lade_params_min)\n",
    "# print(ranalli_mid[0])\n",
    "lit_data['Ranalli LADE'] = list(zip(ranalli_mid, ranalli_high, ranalli_low))\n",
    "# np.array(lit_data['Ranalli LADE'])[0], np.array(lit_data['Aird 2010'])[0]"
   ]
  },
  {
   "cell_type": "code",
   "execution_count": null,
   "metadata": {},
   "outputs": [],
   "source": [
    "np.savez('./output/lf_xray.npz', lf_vals=lf_vals, lf_errs=lf_errs)\n",
    "\n",
    "fig, axs, big_ax = vmax.plot_lf_vmax(lf_vals, lf_errs, z_bins, l_bins, \\\n",
    "                                     compare_to_others=lit_data, \\\n",
    "                                     lum_limits=l_limits, title='LF for 2-10 keV', \\\n",
    "                                     outfile='./output/xray_lf.png', lum_sublabel='_X')"
   ]
  },
  {
   "cell_type": "code",
   "execution_count": null,
   "metadata": {},
   "outputs": [],
   "source": [
    "full_fluxes = xservs_catalog['FB_FLUX']\n",
    "flux_bins = np.logspace(np.log10(min(full_fluxes)), np.log10(max(full_fluxes)), num=50)\n",
    "fig, ax = vmax.incompleteness_histo(full_fluxes, full_fluxes[good_redshift_and_l_selected], flux_bins=flux_bins)\n",
    "fig.savefig('./output/incompleteness_histo.png')"
   ]
  },
  {
   "cell_type": "code",
   "execution_count": null,
   "metadata": {},
   "outputs": [],
   "source": [
    "image_file = './data/chen2018-xmmlss-data-products-2018-06-08/xexp_merged.full.v01.fits'\n",
    "importlib.reload(vmax)\n",
    "importlib.reload(utils)\n",
    "wcs, hdu = utils.load_wcs(image_file)"
   ]
  },
  {
   "cell_type": "code",
   "execution_count": null,
   "metadata": {},
   "outputs": [],
   "source": [
    "fig, ax = vmax.exposure_plot(wcs, hdu.data, survey='XSERVS', band='full band (2-10 keV)')"
   ]
  },
  {
   "cell_type": "code",
   "execution_count": null,
   "metadata": {},
   "outputs": [],
   "source": [
    "cov_func = vmax.coverage_function(hdu.data, wcs, 3824, 2694, detector_area=36, photon_energy=7e-9)\n",
    "\n",
    "ranalli = np.array([[3.234579048402373e-15, 0.046800590726239225],\n",
    "[3.954492818470057e-15, 0.07962852110271917],\n",
    "[4.420434711413654e-15, 0.1222991869375129],\n",
    "[4.856893998989995e-15, 0.18236122222601137],\n",
    "[5.401461929123689e-15, 0.2908177200919355],\n",
    "[6.0772268433984334e-15, 0.4357861819497073],\n",
    "[6.9654850088075764e-15, 0.6424362077190431],\n",
    "[8.267663307570593e-15, 0.968755801543341],\n",
    "[1.0366208408568655e-14, 1.4674725828384785],\n",
    "[1.283839402032368e-14, 2.1666799548490068],\n",
    "[1.6171488639386294e-14, 2.9727838264231394],\n",
    "[2.0299866912836456e-14, 3.7432403328810975],\n",
    "[2.5614185166910568e-14, 4.511438707073378],\n",
    "[3.171314400418349e-14, 4.953004620220058],\n",
    "[3.9399813258449504e-14, 5.35993326131349],\n",
    "[4.965985908263762e-14, 5.5164721661153155],\n",
    "[6.247029270720968e-14, 5.692346186763688],\n",
    "[7.756817736170046e-14, 6.049718652378999],\n",
    "[8.883331632396991e-14, 6.338872460062676\n",
    "]])\n",
    "\n",
    "fig, ax = vmax.cov_func_plot(cov_func, -16, -12, survey='XSERVS', band='full (2-10 keV)', comparison_data=(('Ranalli', ranalli),))"
   ]
  },
  {
   "cell_type": "code",
   "execution_count": null,
   "metadata": {},
   "outputs": [],
   "source": [
    "cov_function(np.logspace(-16, -12, num=50))"
   ]
  },
  {
   "cell_type": "code",
   "execution_count": null,
   "metadata": {},
   "outputs": [],
   "source": [
    "ax.plot(ranalli[:, 0], ranalli[:, 1], label=\"Ranalli [arb. shift]\", color='xkcd:blurple')\n",
    "ax.legend(loc='lower right')\n",
    "ax.set_xlabel('Flux [photons/area/s]')\n",
    "ax.set_ylabel(r'Coverage [deg$^2$]')\n",
    "fig\n",
    "for item in (('hi', ranalli),):\n",
    "    print(len(item))"
   ]
  },
  {
   "cell_type": "code",
   "execution_count": null,
   "metadata": {},
   "outputs": [],
   "source": [
    "fig.savefig('./output/coverage_plot.png')\n"
   ]
  },
  {
   "cell_type": "code",
   "execution_count": null,
   "metadata": {},
   "outputs": [],
   "source": []
  },
  {
   "cell_type": "code",
   "execution_count": null,
   "metadata": {},
   "outputs": [],
   "source": [
    "np.linspace(1, 1, num=1)"
   ]
  },
  {
   "cell_type": "code",
   "execution_count": null,
   "metadata": {},
   "outputs": [],
   "source": []
  },
  {
   "cell_type": "code",
   "execution_count": null,
   "metadata": {},
   "outputs": [],
   "source": []
  },
  {
   "cell_type": "code",
   "execution_count": null,
   "metadata": {},
   "outputs": [],
   "source": [
    "zero_bin = np.array([(0,0)]*num_bins_l)\n",
    "ranalli75 = np.array([[1.8204781835615654e+42, 0.00004688702004672812],\n",
    "[5.768251354223323e+42, 0.00012551169959105474],\n",
    "[1.8224728420637193e+43, 0.0000808899816399594],\n",
    "[5.67651928907583e+43, 0.00004281332398719396],\n",
    "[1.7906555296923534e+44, 0.000012551169959105474],\n",
    "[5.640716651800656e+44, 0.0000018329807108324375],\n",
    "[1.7787122083815078e+45, 4.4803896929336637e-7],\n",
    "[5.601901226975743e+45, 5.884869574824701e-8]])\n",
    "ranalli125 = np.array([[5.5435860594493034e+42, 0.000011753985687895042],\n",
    "[1.7223596240621015e+43, 0.00005627622162420234],\n",
    "[5.448405638807658e+43, 0.00004791131283650859],\n",
    "[1.7259405451530703e+44, 0.000020766691479308065],\n",
    "[5.556837965273878e+44, 0.000003736408486470932],\n",
    "[1.7386035802007045e+45, 6.215740165584362e-7],\n",
    "[5.609887898604562e+45, 3.906235874255027e-8\n",
    "]])\n",
    "ranalli175 = np.array([[1.7879934792230063e+43, 0.000015551805709238664],\n",
    "[5.716073332551424e+43, 0.00004473886184925997],\n",
    "[1.801028165980116e+44, 0.000026170270956732876],\n",
    "[5.7577441922252836e+44, 0.000008146271948214161],\n",
    "[1.787993479222977e+45, 8.146271948214161e-7]])\n",
    "ranalli250 = np.array([[5.424154918951895e+43, 0.00001601379932965642],\n",
    "[1.7134066660943036e+44, 0.00002714612628809034],\n",
    "[5.432130267357807e+44, 0.00000784119081413017],\n",
    "[1.725103245577943e+45, 9.948390153580107e-7\n",
    "]])\n",
    "ranalli350 = np.array([[5.516216936863732e+43, 0.0000073015881038410896],\n",
    "[1.7627901206921975e+44, 0.000009293287013925729],\n",
    "[5.793192144773722e+44, 0.000004437724247661295],\n",
    "[1.7751707021476756e+45, 2.9840845599069994e-7\n",
    "]])\n",
    "# lit_data={'Ranalli 2016':[ranalli75, ranalli75, ranalli75, ranalli125, ranalli125, ranalli175, ranalli250, ranalli250, ranalli350]}"
   ]
  },
  {
   "cell_type": "code",
   "execution_count": null,
   "metadata": {},
   "outputs": [],
   "source": [
    "aird5 = np.array([[2.033624084686662e+41, 0.0004650924258972792],\n",
    "[4.832930238571732e+41, 0.0003181396515358571],\n",
    "[1.1485512424239157e+42, 0.00020988892770326998],\n",
    "[2.7772119324293323e+42, 0.0001849335501313507],\n",
    "[6.600075022827048e+42, 0.00006137028147523471],\n",
    "[1.541593692842248e+43, 0.00003976275248399674],\n",
    "[3.6636145440206636e+43, 0.00002353573408996959],\n",
    "[8.85866790410065e+43, 0.000004969756135303314],\n",
    "[2.105272272765668e+44, 0.0000019059201959126445],\n",
    "[5.003202953825917e+44, 2.297505419511507e-7],\n",
    "[1.1686088553466402e+45, 1.1556523988776559e-7\n",
    "]])\n",
    "aird6 = np.array([[2.0549813357409736e+41, 0.0016076280197404778],\n",
    "[4.893900918477419e+41, 0.001106151042531592],\n",
    "[1.1074776624451061e+42, 0.00042294964015028575],\n",
    "[2.775554463314989e+42, 0.00030698234695950466],\n",
    "[6.498421570076656e+42, 0.0001864741158671012],\n",
    "[6.498421570076656e+42, 0.0001864741158671012],\n",
    "[1.5475873545578656e+43, 0.00009823540528533097],\n",
    "[3.685551320671243e+43, 0.00004105840382532986],\n",
    "[8.777073873921625e+43, 0.0000062203444311790165],\n",
    "[2.126112333899638e+44, 0.000005491496632886971],\n",
    "[4.8939009184774186e+44, 9.593095388678326e-7],\n",
    "[1.165473660676274e+45, 8.672500426996944e-8\n",
    "]])\n",
    "aird8 = np.array([[1.1783152148394137e+42, 0.0009369253689310116],\n",
    "[2.7746838332769845e+42, 0.00029650531783107816],\n",
    "[6.772285498714152e+42, 0.00022696133040863876],\n",
    "[1.5446158257255e+43, 0.00014821522821837686],\n",
    "[3.70382905944931e+43, 0.00007968548021212688],\n",
    "[9.022576566049425e+43, 0.000027544328386614646],\n",
    "[2.12792484345009e+44, 0.000016465418994218013],\n",
    "[5.008008140019909e+44, 0.000004141490330951619],\n",
    "[1.1749183117831125e+45, 2.86841317712791e-7],\n",
    "[2.8035271989546578e+45, 2.058037222352539e-8\n",
    "]])\n",
    "aird10 = np.array([[1.1333269171297019e+42, 0.00039810717055349936],\n",
    "[2.6434551458924697e+42, 0.00033944485527694036],\n",
    "[6.495226024243585e+42, 0.00017316556668620905],\n",
    "[1.5410634236889313e+43, 0.0001400083205615401],\n",
    "[3.538289498751096e+43, 0.00007399983804321452],\n",
    "[8.542029874459734e+43, 0.00005011872336272735],\n",
    "[2.0303886897216604e+44, 0.000019258186341850842],\n",
    "[1.1318518701355524e+45, 6.772815277441427e-7],\n",
    "[2.7444892780963372e+45, 7.666822074546222e-8\n",
    "]])\n",
    "aird12 = np.array([[2.6176431902199304e+42, 0.00021308508748061854],\n",
    "[6.396908655341961e+42, 0.00008230683000823993],\n",
    "[1.5632550875412025e+43, 0.00006904517189119679],\n",
    "[3.8202303649946607e+43, 0.000056885012344750115],\n",
    "[8.56713914996759e+43, 0.000028785865995513617],\n",
    "[1.9884169780083154e+44, 0.00002015722986549392],\n",
    "[4.943446640476108e+44, 0.0000015639566064715666],\n",
    "[1.1672507969054455e+45, 0.0000013599094625740439],\n",
    "[6.620572143707537e+45, 1.1527308442089969e-8\n",
    "]])\n",
    "aird15 = np.array([[6.599517656509027e+42, 0.000051561608146754346],\n",
    "[1.5584143078691544e+43, 0.00003378064342984338],\n",
    "[3.742576891418273e+43, 0.00003210455127221931],\n",
    "[8.690092320062009e+43, 0.000028930160581617874],\n",
    "[2.017799679797168e+44, 0.000011958412935968476],\n",
    "[4.845804106769178e+44, 0.0000041410520965573],\n",
    "[1.1251735441780527e+45, 0.0000012225863699109943],\n",
    "[2.7021367065307643e+45, 5.329871001276772e-7],\n",
    "[6.380842850117492e+45, 1.4402662261974964e-8\n",
    "]])\n",
    "aird20 = np.array([[3.6067207952730063e+43, 0.000030351385686916772],\n",
    "[8.570349978994005e+43, 0.000013203131390722677],\n",
    "[2.0324276585584765e+44, 0.000012999567867950998],\n",
    "[4.829278235207719e+44, 0.000005756246335532061],\n",
    "[1.1314232445611516e+45, 8.036162975433914e-7\n",
    "]])\n",
    "aird25 = np.array([[1.5630809481906333e+43, 0.000044695012940806844],\n",
    "[3.7015060883266337e+43, 0.000014218367688294832],\n",
    "[8.969496495595183e+43, 0.000015273473785035314],\n",
    "[2.1635493138709064e+44, 0.00000646965063314045],\n",
    "[5.06285176308105e+44, 0.000005810970954396663],\n",
    "[1.1545317501168417e+45, 8.717952687673054e-7\n",
    "]])\n",
    "# lit_data['Aird 2010'] = [aird5, aird6, aird8, aird10, aird12, aird15, aird20, aird25, aird25]"
   ]
  },
  {
   "cell_type": "code",
   "execution_count": null,
   "metadata": {},
   "outputs": [],
   "source": []
  },
  {
   "cell_type": "code",
   "execution_count": null,
   "metadata": {},
   "outputs": [],
   "source": []
  },
  {
   "cell_type": "code",
   "execution_count": null,
   "metadata": {},
   "outputs": [],
   "source": []
  },
  {
   "cell_type": "code",
   "execution_count": null,
   "metadata": {},
   "outputs": [],
   "source": []
  }
 ],
 "metadata": {
  "kernelspec": {
   "display_name": "Python 3",
   "language": "python",
   "name": "python3"
  },
  "language_info": {
   "codemirror_mode": {
    "name": "ipython",
    "version": 3
   },
   "file_extension": ".py",
   "mimetype": "text/x-python",
   "name": "python",
   "nbconvert_exporter": "python",
   "pygments_lexer": "ipython3",
   "version": "3.8.5"
  }
 },
 "nbformat": 4,
 "nbformat_minor": 4
}
