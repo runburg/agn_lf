{
 "cells": [
  {
   "cell_type": "code",
   "execution_count": 1,
   "metadata": {},
   "outputs": [
    {
     "name": "stdout",
     "output_type": "stream",
     "text": [
      "/Users/runburg/github/agn_lf\n"
     ]
    }
   ],
   "source": [
    "%cd ~/github/agn_lf/"
   ]
  },
  {
   "cell_type": "code",
   "execution_count": 2,
   "metadata": {},
   "outputs": [],
   "source": [
    "import source.astro_functions as af\n",
    "import source.table_functions as tf\n",
    "import source.lf_xi2 as xi2\n",
    "import source.lf_vmax as vmax\n",
    "import numpy as np\n",
    "import matplotlib.pyplot as plt"
   ]
  },
  {
   "cell_type": "code",
   "execution_count": 3,
   "metadata": {},
   "outputs": [
    {
     "ename": "NameError",
     "evalue": "name 'table' is not defined",
     "output_type": "error",
     "traceback": [
      "\u001b[0;31m---------------------------------------------------------------------------\u001b[0m",
      "\u001b[0;31mNameError\u001b[0m                                 Traceback (most recent call last)",
      "\u001b[0;32m<ipython-input-3-68821712a6ad>\u001b[0m in \u001b[0;36m<module>\u001b[0;34m\u001b[0m\n\u001b[1;32m     12\u001b[0m \u001b[0;31m# #         continue\u001b[0m\u001b[0;34m\u001b[0m\u001b[0;34m\u001b[0m\u001b[0;34m\u001b[0m\u001b[0m\n\u001b[1;32m     13\u001b[0m \u001b[0;31m# flagged_agn.write('./data/flagged_agn.fits', format='fits')\u001b[0m\u001b[0;34m\u001b[0m\u001b[0;34m\u001b[0m\u001b[0;34m\u001b[0m\u001b[0m\n\u001b[0;32m---> 14\u001b[0;31m \u001b[0mflagged_agn\u001b[0m \u001b[0;34m=\u001b[0m \u001b[0mtable\u001b[0m\u001b[0;34m.\u001b[0m\u001b[0mTable\u001b[0m\u001b[0;34m.\u001b[0m\u001b[0mread\u001b[0m\u001b[0;34m(\u001b[0m\u001b[0;34m'./data/flagged_agn.fits'\u001b[0m\u001b[0;34m)\u001b[0m\u001b[0;34m\u001b[0m\u001b[0;34m\u001b[0m\u001b[0m\n\u001b[0m",
      "\u001b[0;31mNameError\u001b[0m: name 'table' is not defined"
     ]
    }
   ],
   "source": [
    "# use table with agn_flag\n",
    "from astropy.io import fits\n",
    "import astropy.table as table\n",
    "# catalog = fits.open(\"data/Anna_Nick_Tractor_photometry_samplev9_MASTER.fits\", memmap=True)\n",
    "# ct = table.Table(catalog[1].data)\n",
    "# flagged_agn = ct[np.where(ct['agn_flag'] == 1)]\n",
    "# flagged_agn = table.Table(flagged_agn, masked=True, copy=False)\n",
    "# # for col in flagged_agn.columns.values():\n",
    "# #     try:\n",
    "# #         col.mask = np.isnan(col)\n",
    "# #     except TypeError:\n",
    "# #         continue\n",
    "# flagged_agn.write('./data/flagged_agn.fits', format='fits')\n",
    "flagged_agn = table.Table.read('./data/flagged_agn.fits')"
   ]
  },
  {
   "cell_type": "code",
   "execution_count": null,
   "metadata": {
    "scrolled": false
   },
   "outputs": [],
   "source": [
    "band = 'Mag_U_CFHT'\n",
    "band_err = 'Mag_err_U_CFHT'\n",
    "z_cols = ('zSpec', 'z_eazy')\n",
    "mid = 'Mag_U_CFHT_abs'\n",
    "band_vmax = 'Mag_U_CFHT_Vmax'\n",
    "mid, low, high = tf.add_abs_mag_and_err_to_table(flagged_agn, band, band_err, z_cols)\n",
    "band_vmax = vmax.add_V_max_to_table(flagged_agn, band, band_err, mid, ('zSpec', 'z_eazy'))\n",
    "flagged_agn.write('./data/flagged_agn_w_mag_and_vmax.fits')\n",
    "flagged_agn = table.Table.read('./data/flagged_agn_w_mag_and_vmax.fits')"
   ]
  },
  {
   "cell_type": "code",
   "execution_count": null,
   "metadata": {
    "scrolled": false
   },
   "outputs": [],
   "source": [
    "bins = np.arange(np.ceil(min(flagged_agn[mid])), -14)\n",
    "vmax_counts = vmax.v_max_counts(flagged_agn, bins, mid, selection_function=np.ones(len(flagged_agn[mid])), vmax_band=band)\n",
    "flagged_agn[band].data"
   ]
  },
  {
   "cell_type": "code",
   "execution_count": null,
   "metadata": {},
   "outputs": [],
   "source": [
    "fig, ax = vmax.plot_lf_V_max(*vmax_counts)"
   ]
  },
  {
   "cell_type": "code",
   "execution_count": null,
   "metadata": {
    "scrolled": false
   },
   "outputs": [],
   "source": [
    "bins = np.arange(np.ceil(min(flagged_agn[mid])), -14)\n",
    "vmax_counts = vmax.v_max_counts(flagged_agn, bins, mid, selection_function=vmax.example_selection_func(flagged_agn[mid]), vmax_band=band)\n",
    "flagged_agn[band].data"
   ]
  },
  {
   "cell_type": "code",
   "execution_count": null,
   "metadata": {},
   "outputs": [],
   "source": [
    "fig, ax = vmax.plot_lf_V_max(*vmax_counts)"
   ]
  },
  {
   "cell_type": "code",
   "execution_count": null,
   "metadata": {},
   "outputs": [],
   "source": [
    "# print(vmax_counts)\n",
    "odr_out = xi2.odr_fit(*vmax_counts, initial_guesses=(10, -24, 0.05, -.5))\n"
   ]
  },
  {
   "cell_type": "code",
   "execution_count": null,
   "metadata": {},
   "outputs": [],
   "source": [
    "odr_out.beta"
   ]
  },
  {
   "cell_type": "code",
   "execution_count": null,
   "metadata": {},
   "outputs": [],
   "source": [
    "x_vals = np.linspace(min(bins), max(bins))\n",
    "ax.plot(x_vals, xi2.double_power_law(odr_out.beta, x_vals))\n",
    "fig"
   ]
  },
  {
   "cell_type": "code",
   "execution_count": null,
   "metadata": {},
   "outputs": [],
   "source": []
  }
 ],
 "metadata": {
  "kernelspec": {
   "display_name": "Python 3",
   "language": "python",
   "name": "python3"
  },
  "language_info": {
   "codemirror_mode": {
    "name": "ipython",
    "version": 3
   },
   "file_extension": ".py",
   "mimetype": "text/x-python",
   "name": "python",
   "nbconvert_exporter": "python",
   "pygments_lexer": "ipython3",
   "version": "3.7.6"
  }
 },
 "nbformat": 4,
 "nbformat_minor": 2
}
