{
 "cells": [
  {
   "cell_type": "code",
   "execution_count": 1,
   "metadata": {},
   "outputs": [
    {
     "name": "stdout",
     "output_type": "stream",
     "text": [
      "/Users/runburg/github/agn_lf\n"
     ]
    }
   ],
   "source": [
    "%cd ~/github/agn_lf/\n",
    "import source.astro_functions as af\n",
    "import source.table_functions as tf\n",
    "import source.lf_xi2 as xi2\n",
    "import source.lf_vmax as vmax\n",
    "import numpy as np\n",
    "import matplotlib.pyplot as plt"
   ]
  },
  {
   "cell_type": "code",
   "execution_count": 2,
   "metadata": {},
   "outputs": [],
   "source": [
    "# use table with agn_flag\n",
    "from astropy.io import fits\n",
    "import astropy.table as table\n",
    "catalog = fits.open(\"data/Anna_Nick_Tractor_photometry_samplev9_MASTER.fits\", memmap=True)\n",
    "# ct = table.Table(catalog[1].data)\n",
    "# flagged_agn = ct[np.where(ct['agn_flag'] == 1)]\n",
    "# flagged_agn = table.Table(flagged_agn, masked=True, copy=False)\n",
    "# # for col in flagged_agn.columns.values():\n",
    "# #     try:\n",
    "# #         col.mask = np.isnan(col)\n",
    "# #     except TypeError:\n",
    "# #         continue\n",
    "# flagged_agn.write('./data/flagged_agn.fits', format='fits')\n",
    "flagged_agn = table.Table.read('./data/flagged_agn.fits')"
   ]
  },
  {
   "cell_type": "code",
   "execution_count": null,
   "metadata": {},
   "outputs": [],
   "source": []
  }
 ],
 "metadata": {
  "kernelspec": {
   "display_name": "Python 3",
   "language": "python",
   "name": "python3"
  },
  "language_info": {
   "codemirror_mode": {
    "name": "ipython",
    "version": 3
   },
   "file_extension": ".py",
   "mimetype": "text/x-python",
   "name": "python",
   "nbconvert_exporter": "python",
   "pygments_lexer": "ipython3",
   "version": "3.7.6"
  }
 },
 "nbformat": 4,
 "nbformat_minor": 2
}
