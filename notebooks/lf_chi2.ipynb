{
 "cells": [
  {
   "cell_type": "code",
   "execution_count": 1,
   "metadata": {},
   "outputs": [
    {
     "name": "stdout",
     "output_type": "stream",
     "text": [
      "/Users/runburg/github/agn_lf\n"
     ]
    }
   ],
   "source": [
    "%cd ~/github/agn_lf/\n",
    "import source.astro_functions as af\n",
    "import source.table_functions as tf\n",
    "import source.lf_xi2 as xi2\n",
    "import source.lf_vmax as vmax\n",
    "import numpy as np\n",
    "import matplotlib.pyplot as plt"
   ]
  },
  {
   "cell_type": "code",
   "execution_count": 2,
   "metadata": {},
   "outputs": [],
   "source": [
    "# use table with agn_flag\n",
    "from astropy.io import fits\n",
    "import astropy.table as table\n",
    "catalog = fits.open(\"data/Anna_Nick_Tractor_photometry_samplev9_MASTER.fits\", memmap=True)\n",
    "# ct = table.Table(catalog[1].data)\n",
    "# flagged_agn = ct[np.where(ct['agn_flag'] == 1)]\n",
    "# flagged_agn = table.Table(flagged_agn, masked=True, copy=False)\n",
    "# # for col in flagged_agn.columns.values():\n",
    "# #     try:\n",
    "# #         col.mask = np.isnan(col)\n",
    "# #     except TypeError:\n",
    "# #         continue\n",
    "# flagged_agn.write('./data/flagged_agn.fits', format='fits')\n",
    "flagged_agn = table.Table.read('./data/flagged_agn.fits')"
   ]
  },
  {
   "cell_type": "code",
   "execution_count": 3,
   "metadata": {
    "scrolled": false
   },
   "outputs": [],
   "source": [
    "band = 'Mag_U_CFHT'\n",
    "band_err = 'Mag_err_U_CFHT'\n",
    "z_cols = ('zSpec', 'z_eazy')\n",
    "mid = 'Mag_U_CFHT_abs'\n",
    "band_vmax = 'Mag_U_CFHT_Vmax'\n",
    "# mid, low, high = tf.add_abs_mag_and_err_to_table(flagged_agn, band, band_err, z_cols)\n",
    "# band_vmax = vmax.add_V_max_to_table(flagged_agn, band, band_err, mid, ('zSpec', 'z_eazy'))\n",
    "# flagged_agn.write('./data/flagged_agn_w_mag_and_vmax.fits')\n",
    "flagged_agn = table.Table.read('./data/flagged_agn_w_mag_and_vmax.fits')"
   ]
  },
  {
   "cell_type": "code",
   "execution_count": 4,
   "metadata": {
    "scrolled": false
   },
   "outputs": [
    {
     "name": "stderr",
     "output_type": "stream",
     "text": [
      "/Users/runburg/github/agn_lf/source/lf_vmax.py:220: RuntimeWarning: invalid value encountered in less\n",
      "  in_bin = (bins[i - 1] < data_table[band].data) & (data_table[band].data < bins[i])\n"
     ]
    },
    {
     "data": {
      "text/plain": [
       "array([22.606075,       nan, 22.587841, ..., 19.483315, 22.185135,\n",
       "       20.052412], dtype=float32)"
      ]
     },
     "execution_count": 4,
     "metadata": {},
     "output_type": "execute_result"
    }
   ],
   "source": [
    "bins = np.arange(np.ceil(min(flagged_agn[mid])), -18)\n",
    "vmax_counts = vmax.v_max_counts(flagged_agn, bins, mid, selection_function=np.ones(len(flagged_agn[mid])), vmax_band=band)\n",
    "flagged_agn[band].data"
   ]
  },
  {
   "cell_type": "code",
   "execution_count": 5,
   "metadata": {},
   "outputs": [
    {
     "data": {
      "image/png": "[encoded data removed]",
      "text/plain": [
       "<Figure size 432x288 with 1 Axes>"
      ]
     },
     "metadata": {
      "needs_background": "light"
     },
     "output_type": "display_data"
    }
   ],
   "source": [
    "fig, ax = vmax.plot_lf_V_max(*vmax_counts)"
   ]
  },
  {
   "cell_type": "code",
   "execution_count": 6,
   "metadata": {
    "scrolled": false
   },
   "outputs": [
    {
     "data": {
      "text/plain": [
       "array([22.606075,       nan, 22.587841, ..., 19.483315, 22.185135,\n",
       "       20.052412], dtype=float32)"
      ]
     },
     "execution_count": 6,
     "metadata": {},
     "output_type": "execute_result"
    }
   ],
   "source": [
    "bins = np.arange(np.ceil(min(flagged_agn[mid])), -18)\n",
    "vmax_counts = vmax.v_max_counts(flagged_agn, bins, mid, selection_function=vmax.example_selection_func(flagged_agn[mid]), vmax_band=band)\n",
    "flagged_agn[band].data"
   ]
  },
  {
   "cell_type": "code",
   "execution_count": 7,
   "metadata": {},
   "outputs": [
    {
     "data": {
      "image/png": "[encoded data removed]",
      "text/plain": [
       "<Figure size 432x288 with 1 Axes>"
      ]
     },
     "metadata": {
      "needs_background": "light"
     },
     "output_type": "display_data"
    }
   ],
   "source": [
    "fig, ax = vmax.plot_lf_V_max(*vmax_counts)"
   ]
  },
  {
   "cell_type": "code",
   "execution_count": 8,
   "metadata": {},
   "outputs": [
    {
     "name": "stdout",
     "output_type": "stream",
     "text": [
      "Beta: [ 18.52412905 -24.3443023   -0.60172412  -2.41757947]\n",
      "Beta Std Error: [1.30461441 0.26906234 0.05047366 0.18429856]\n",
      "Beta Covariance: [[2.32413598 0.27918746 0.0742625  0.15141591]\n",
      " [0.27918746 0.098856   0.01528862 0.05720239]\n",
      " [0.0742625  0.01528862 0.00347878 0.00838362]\n",
      " [0.15141591 0.05720239 0.00838362 0.0463811 ]]\n",
      "Residual Variance: 0.7323232196579643\n",
      "Inverse Condition #: 0.0038136289977775428\n",
      "Reason(s) for Halting:\n",
      "  Sum of squares convergence\n"
     ]
    }
   ],
   "source": [
    "# print(vmax_counts)\n",
    "odr_out = xi2.odr_fit(*vmax_counts, initial_guesses=(10, -24, 0.05, -.5))\n"
   ]
  },
  {
   "cell_type": "code",
   "execution_count": 9,
   "metadata": {},
   "outputs": [
    {
     "data": {
      "text/plain": [
       "array([ 18.52412905, -24.3443023 ,  -0.60172412,  -2.41757947])"
      ]
     },
     "execution_count": 9,
     "metadata": {},
     "output_type": "execute_result"
    }
   ],
   "source": [
    "odr_out.beta"
   ]
  },
  {
   "cell_type": "code",
   "execution_count": 10,
   "metadata": {},
   "outputs": [
    {
     "data": {
      "image/png": "[encoded data removed]",
      "text/plain": [
       "<Figure size 432x288 with 1 Axes>"
      ]
     },
     "execution_count": 10,
     "metadata": {},
     "output_type": "execute_result"
    }
   ],
   "source": [
    "x_vals = np.linspace(min(bins), max(bins))\n",
    "ax.plot(x_vals, xi2.double_power_law(odr_out.beta, x_vals))\n",
    "fig"
   ]
  },
  {
   "cell_type": "code",
   "execution_count": 11,
   "metadata": {
    "scrolled": true
   },
   "outputs": [
    {
     "data": {
      "text/html": [
       "<i>Table length=1302</i>\n",
       "<table id=\"table4845620672\" class=\"table-striped table-bordered table-condensed\">\n",
       "<thead><tr><th>Mag_U_CFHT</th><th>Mag_U_CFHT_Vmax</th></tr></thead>\n",
       "<thead><tr><th></th><th>Mpc3</th></tr></thead>\n",
       "<thead><tr><th>float32</th><th>float64</th></tr></thead>\n",
       "<tr><td>22.606075</td><td>2321532824.8403134</td></tr>\n",
       "<tr><td>nan</td><td>0.0</td></tr>\n",
       "<tr><td>22.587841</td><td>2321532824.8403134</td></tr>\n",
       "<tr><td>20.490723</td><td>2321532824.8403134</td></tr>\n",
       "<tr><td>21.727146</td><td>2321532824.8403134</td></tr>\n",
       "<tr><td>21.664654</td><td>2321532824.8403134</td></tr>\n",
       "<tr><td>21.24732</td><td>2321532824.8403134</td></tr>\n",
       "<tr><td>22.805641</td><td>2321532824.8403134</td></tr>\n",
       "<tr><td>nan</td><td>0.0</td></tr>\n",
       "<tr><td>...</td><td>...</td></tr>\n",
       "<tr><td>22.031717</td><td>2321532824.8403134</td></tr>\n",
       "<tr><td>nan</td><td>0.0</td></tr>\n",
       "<tr><td>18.01941</td><td>2321532824.8403134</td></tr>\n",
       "<tr><td>19.632763</td><td>2321532824.8403134</td></tr>\n",
       "<tr><td>25.440279</td><td>2321532824.8403134</td></tr>\n",
       "<tr><td>23.449543</td><td>2321532824.8403134</td></tr>\n",
       "<tr><td>23.302607</td><td>2321532824.8403134</td></tr>\n",
       "<tr><td>19.483315</td><td>2321532824.8403134</td></tr>\n",
       "<tr><td>22.185135</td><td>2321532824.8403134</td></tr>\n",
       "<tr><td>20.052412</td><td>2321532824.8403134</td></tr>\n",
       "</table>"
      ],
      "text/plain": [
       "<Table length=1302>\n",
       "Mag_U_CFHT  Mag_U_CFHT_Vmax  \n",
       "                  Mpc3       \n",
       " float32        float64      \n",
       "---------- ------------------\n",
       " 22.606075 2321532824.8403134\n",
       "       nan                0.0\n",
       " 22.587841 2321532824.8403134\n",
       " 20.490723 2321532824.8403134\n",
       " 21.727146 2321532824.8403134\n",
       " 21.664654 2321532824.8403134\n",
       "  21.24732 2321532824.8403134\n",
       " 22.805641 2321532824.8403134\n",
       "       nan                0.0\n",
       "       ...                ...\n",
       " 22.031717 2321532824.8403134\n",
       "       nan                0.0\n",
       "  18.01941 2321532824.8403134\n",
       " 19.632763 2321532824.8403134\n",
       " 25.440279 2321532824.8403134\n",
       " 23.449543 2321532824.8403134\n",
       " 23.302607 2321532824.8403134\n",
       " 19.483315 2321532824.8403134\n",
       " 22.185135 2321532824.8403134\n",
       " 20.052412 2321532824.8403134"
      ]
     },
     "execution_count": 11,
     "metadata": {},
     "output_type": "execute_result"
    }
   ],
   "source": [
    "flagged_agn[band, band_vmax]"
   ]
  },
  {
   "cell_type": "code",
   "execution_count": 12,
   "metadata": {},
   "outputs": [],
   "source": [
    "catalog = fits.open(\"data/Anna_Nick_Tractor_photometry_samplev9_MASTER.fits\", memmap=True)\n",
    "ct = table.Table(catalog[1].data)"
   ]
  },
  {
   "cell_type": "code",
   "execution_count": 13,
   "metadata": {},
   "outputs": [
    {
     "name": "stderr",
     "output_type": "stream",
     "text": [
      "/Users/runburg/github/agn_lf/source/selection_criteria.py:49: RuntimeWarning: invalid value encountered in log10\n",
      "  lf80_45 = np.log10(flux8_0 / flux4_5)\n",
      "/Users/runburg/github/agn_lf/source/selection_criteria.py:50: RuntimeWarning: invalid value encountered in log10\n",
      "  lf58_36 = np.log10(flux5_8 / flux3_6)\n",
      "/usr/local/lib/python3.8/site-packages/astropy/table/column.py:1020: RuntimeWarning: invalid value encountered in greater\n",
      "  result = getattr(super(), op)(other)\n",
      "/usr/local/lib/python3.8/site-packages/astropy/table/column.py:1020: RuntimeWarning: invalid value encountered in less\n",
      "  result = getattr(super(), op)(other)\n"
     ]
    }
   ],
   "source": [
    "import source.selection_criteria as sc\n",
    "\n",
    "flux36 = 'flux_ap2_36'\n",
    "flux45 = 'flux_ap2_45'\n",
    "flux58 = 'flux_ap2_58'\n",
    "flux80 = 'flux_ap2_80'\n",
    "\n",
    "# try:\n",
    "#     for i in range(len(ct)):\n",
    "#         ct[flux36][i] > 10\n",
    "# except TypeError:\n",
    "#     print(i, \": \", ct[i])\n",
    "agn_candidates = sc.select_ir(ct, flux36, flux45, flux58, flux80, selection_cuts='lacy05')\n",
    "lacy_selected = ct[agn_candidates]"
   ]
  },
  {
   "cell_type": "code",
   "execution_count": 14,
   "metadata": {},
   "outputs": [
    {
     "name": "stdout",
     "output_type": "stream",
     "text": [
      "Mag is nan for Object 16188                    \n",
      "Mag is nan for Object 16999                    \n",
      "Mag is nan for Object 18482                    \n",
      "Mag is nan for Object 19102                    \n",
      "Mag is nan for Object 20318                    \n",
      "Mag is nan for Object 24772                    \n",
      "Mag is nan for Object 26946                    \n",
      "Mag is nan for Object 27108                    \n",
      "Mag is nan for Object 29350                    \n",
      "Mag is nan for Object 31462                    \n",
      "Mag is nan for Object 31722                    \n",
      "Mag is nan for Object 37136                    \n",
      "Mag is nan for Object 39295                    \n",
      "Mag is nan for Object 40559                    \n",
      "Mag is nan for Object 43465                    \n",
      "Mag is nan for Object 44471                    \n",
      "Mag is nan for Object 44876                    \n",
      "Mag is nan for Object 45850                    \n",
      "Mag is nan for Object 46542                    \n",
      "Mag is nan for Object 46933                    \n",
      "Mag is nan for Object 53404                    \n",
      "Mag is nan for Object 53427                    \n",
      "Mag is nan for Object 53453                    \n",
      "Mag is nan for Object 53569                    \n",
      "Mag is nan for Object 54106                    \n",
      "Mag is nan for Object 54240                    \n",
      "Mag is nan for Object 56417                    \n",
      "Mag is nan for Object 56638                    \n",
      "Mag is nan for Object 56712                    \n",
      "Mag is nan for Object 57403                    \n",
      "Mag is nan for Object 59623                    \n",
      "Mag is nan for Object 60591                    \n",
      "Mag is nan for Object 60704                    \n",
      "Mag is nan for Object 63711                    \n",
      "Mag is nan for Object 64009                    \n",
      "Mag is nan for Object 65735                    \n",
      "Mag is nan for Object 65748                    \n",
      "Mag is nan for Object 71100                    \n",
      "Mag is nan for Object 71541                    \n",
      "Mag is nan for Object 73065                    \n",
      "Mag is nan for Object 73103                    \n",
      "Mag is nan for Object 77559                    \n",
      "Mag is nan for Object 77589                    \n",
      "Mag is nan for Object 78218                    \n",
      "Mag is nan for Object 81019                    \n",
      "Mag is nan for Object 85119                    \n",
      "Mag is nan for Object 90196                    \n",
      "Mag is nan for Object 91253                    \n",
      "Mag is nan for Object 91579                    \n",
      "Mag is nan for Object 93291                    \n",
      "Mag is nan for Object 93867                    \n",
      "Mag is nan for Object 95013                    \n",
      "Mag is nan for Object 95805                    \n",
      "Mag is nan for Object 96928                    \n",
      "Mag is nan for Object 98209                    \n",
      "Mag is nan for Object 98671                    \n",
      "Mag is nan for Object 99312                    \n",
      "Mag is nan for Object 100016                   \n",
      "Mag is nan for Object 106738                   \n",
      "Mag is nan for Object 107339                   \n",
      "Mag is nan for Object 107691                   \n",
      "Mag is nan for Object 108612                   \n",
      "Mag is nan for Object 108684                   \n",
      "Mag is nan for Object 109146                   \n",
      "Mag is nan for Object 110467                   \n",
      "Mag is nan for Object 110474                   \n",
      "Mag is nan for Object 115373                   \n",
      "Mag is nan for Object 115450                   \n",
      "Mag is nan for Object 115728                   \n",
      "Mag is nan for Object 119488                   \n",
      "Mag is nan for Object 120077                   \n",
      "Mag is nan for Object 125240                   \n",
      "Mag is nan for Object 129053                   \n",
      "Mag is nan for Object 133732                   \n",
      "Mag is nan for Object 159952                   \n",
      "Mag is nan for Object 173353                   \n",
      "Mag is nan for Object 205449                   \n",
      "Mag is nan for Object 207190                   \n",
      "Mag is nan for Object 389753                   \n",
      "Mag is nan for Object 389760                   \n",
      "Mag is nan for Object 404529                   \n",
      "Mag is nan for Object 405165                   \n",
      "Mag is nan for Object 414336                   \n",
      "Mag is nan for Object 423607                   \n",
      "Mag is nan for Object 423815                   \n",
      "Mag is nan for Object 424197                   \n",
      "Mag is nan for Object 427531                   \n",
      "Mag is nan for Object 441793                   \n",
      "Mag is nan for Object 442489                   \n",
      "Mag is nan for Object 443357                   \n",
      "Mag is nan for Object 444139                   \n",
      "Mag is nan for Object 448837                   \n",
      "Mag is nan for Object 456947                   \n",
      "Mag is nan for Object 462897                   \n",
      "Mag is nan for Object 464517                   \n",
      "Mag is nan for Object 475954                   \n",
      "Mag is nan for Object 486207                   \n",
      "Mag is nan for Object 499724                   \n",
      "Mag is nan for Object 528401                   \n",
      "Mag is nan for Object 547365                   \n",
      "Mag is nan for Object 555218                   \n",
      "Mag is nan for Object 555293                   \n",
      "Mag is nan for Object 577034                   \n",
      "Mag is nan for Object 590177                   \n",
      "Mag is nan for Object 608975                   \n",
      "Mag is nan for Object 626861                   \n",
      "Mag is nan for Object 646721                   \n",
      "Mag is nan for Object 676951                   \n",
      "Mag is nan for Object 686899                   \n",
      "Mag is nan for Object 700728                   \n",
      "Mag is nan for Object 703992                   \n",
      "Mag is nan for Object 727951                   \n",
      "Mag is nan for Object 736959                   \n",
      "Mag is nan for Object 771424                   \n",
      "Mag is nan for Object 771793                   \n",
      "Mag is nan for Object 777408                   \n",
      "Mag is nan for Object 778198                   \n",
      "Mag is nan for Object 779936                   \n",
      "Mag is nan for Object 786758                   \n",
      "Mag is nan for Object 789045                   \n",
      "Mag is nan for Object 795443                   \n",
      "Mag is nan for Object 798179                   \n",
      "Mag is nan for Object 799372                   \n",
      "Mag is nan for Object 799436                   \n",
      "Mag is nan for Object 815383                   \n",
      "Mag is nan for Object 837921                   \n",
      "Mag is nan for Object 847960                   \n",
      "Mag is nan for Object 868433                   \n",
      "Mag is nan for Object 887679                   \n",
      "Mag is nan for Object 915782                   \n",
      "Mag is nan for Object 923812                   \n",
      "Mag is nan for Object 967599                   \n",
      "Mag is nan for Object 970767                   \n",
      "Mag is nan for Object 976122                   \n",
      "Mag is nan for Object 983660                   \n",
      "Mag is nan for Object 986643                   \n",
      "Mag is nan for Object 989659                   \n",
      "Mag is nan for Object 990606                   \n",
      "Mag is nan for Object 996097                   \n",
      "Mag is nan for Object 996637                   \n",
      "Mag is nan for Object 998552                   \n",
      "Mag is nan for Object 1000195                  \n",
      "Mag is nan for Object 1003325                  \n",
      "Mag is nan for Object 1004367                  \n",
      "Mag is nan for Object 1005223                  \n",
      "Mag is nan for Object 1007885                  \n",
      "Mag is nan for Object 1018647                  \n",
      "Mag is nan for Object 1019008                  \n",
      "Mag is nan for Object 1023273                  \n",
      "Mag is nan for Object 1026724                  \n",
      "Mag is nan for Object 1026980                  \n",
      "Mag is nan for Object 1029048                  \n",
      "Mag is nan for Object 1032501                  \n",
      "Mag is nan for Object 1032857                  \n",
      "Mag is nan for Object 1037837                  \n",
      "Mag is nan for Object 1043211                  \n",
      "Mag is nan for Object 1043541                  \n",
      "Mag is nan for Object 1045484                  \n",
      "Mag is nan for Object 1048339                  \n",
      "Mag is nan for Object 1049410                  \n",
      "Mag is nan for Object 1051427                  \n",
      "Mag is nan for Object 1055754                  \n",
      "Mag is nan for Object 1056167                  \n",
      "Mag is nan for Object 1059576                  \n",
      "Mag is nan for Object 1061295                  \n",
      "Mag is nan for Object 1065499                  \n",
      "Mag is nan for Object 1068866                  \n"
     ]
    },
    {
     "name": "stderr",
     "output_type": "stream",
     "text": [
      "/Users/runburg/github/agn_lf/source/astro_functions.py:52: RuntimeWarning: divide by zero encountered in log10\n",
      "  return mag_app - 5 * np.log10(cosmo.luminosity_distance(z).to(u.pc).value / 10) - k_correction(z)\n"
     ]
    },
    {
     "name": "stdout",
     "output_type": "stream",
     "text": [
      "Mag is nan for Object 1087541                  \n",
      "Mag is nan for Object 1089612                  \n",
      "Mag is nan for Object 1091194                  \n",
      "Mag is nan for Object 1091253                  \n",
      "Mag is nan for Object 1094848                  \n",
      "Mag is nan for Object 1106758                  \n",
      "Mag is nan for Object 1115278                  \n",
      "Mag is nan for Object 1118490                  \n",
      "Mag is nan for Object 1122136                  \n",
      "Mag is nan for Object 1122354                  \n",
      "Mag is nan for Object 1123536                  \n",
      "Mag is nan for Object 1124017                  \n",
      "Mag is nan for Object 1126344                  \n",
      "Mag is nan for Object 1127021                  \n",
      "Mag is nan for Object 1127468                  \n",
      "Mag is nan for Object 1130233                  \n",
      "Mag is nan for Object 1135863                  \n",
      "Mag is nan for Object 1135875                  \n",
      "Mag is nan for Object 1136764                  \n",
      "Mag is nan for Object 1138085                  \n",
      "Mag is nan for Object 1138143                  \n",
      "Mag is nan for Object 1145385                  \n",
      "Mag is nan for Object 1146725                  \n",
      "Mag is nan for Object 1147425                  \n",
      "Mag is nan for Object 1147770                  \n",
      "Mag is nan for Object 1148869                  \n",
      "Mag is nan for Object 1160685                  \n",
      "Mag is nan for Object 1161400                  \n",
      "Mag is nan for Object 1168948                  \n",
      "Mag is nan for Object 1175131                  \n",
      "Mag is nan for Object 1175248                  \n",
      "Mag is nan for Object 1178782                  \n",
      "Mag is nan for Object 1179406                  \n",
      "Mag is nan for Object 1182317                  \n",
      "Mag is nan for Object 1188249                  \n",
      "Mag is nan for Object 1188841                  \n",
      "Mag is nan for Object 1195351                  \n",
      "Mag is nan for Object 1198339                  \n",
      "Mag is nan for Object 1201012                  \n",
      "Mag is nan for Object 1202728                  \n",
      "Mag is nan for Object 1207753                  \n",
      "Mag is nan for Object 1219225                  \n",
      "Mag is nan for Object 1229202                  \n",
      "Mag is nan for Object 1232350                  \n",
      "Mag is nan for Object 1233547                  \n",
      "Mag is nan for Object 1237158                  \n",
      "Mag is nan for Object 1237301                  \n",
      "Mag is nan for Object 1238131                  \n",
      "Mag is nan for Object 1241200                  \n",
      "Mag is nan for Object 1241303                  \n",
      "Mag is nan for Object 1241576                  \n",
      "Mag is nan for Object 16188                    \n",
      "Mag is nan for Object 16999                    \n",
      "Mag is nan for Object 18482                    \n",
      "Mag is nan for Object 19102                    \n",
      "Mag is nan for Object 20318                    \n",
      "Mag is nan for Object 24772                    \n",
      "Mag is nan for Object 26946                    \n",
      "Mag is nan for Object 27108                    \n",
      "Mag is nan for Object 29350                    \n",
      "Mag is nan for Object 31462                    \n",
      "Mag is nan for Object 31722                    \n",
      "Mag is nan for Object 37136                    \n",
      "Mag is nan for Object 39295                    \n",
      "Mag is nan for Object 40559                    \n",
      "Mag is nan for Object 43465                    \n",
      "Mag is nan for Object 44471                    \n",
      "Mag is nan for Object 44876                    \n",
      "Mag is nan for Object 45850                    \n",
      "Mag is nan for Object 46542                    \n",
      "Mag is nan for Object 46933                    \n",
      "Mag is nan for Object 53404                    \n",
      "Mag is nan for Object 53427                    \n",
      "Mag is nan for Object 53453                    \n",
      "Mag is nan for Object 53569                    \n",
      "Mag is nan for Object 54106                    \n",
      "Mag is nan for Object 54240                    \n",
      "Mag is nan for Object 56417                    \n",
      "Mag is nan for Object 56638                    \n",
      "Mag is nan for Object 56712                    \n",
      "Mag is nan for Object 57403                    \n",
      "Mag is nan for Object 59623                    \n",
      "Mag is nan for Object 60591                    \n",
      "Mag is nan for Object 60704                    \n",
      "Mag is nan for Object 63711                    \n",
      "Mag is nan for Object 64009                    \n",
      "Mag is nan for Object 65735                    \n",
      "Mag is nan for Object 65748                    \n",
      "Mag is nan for Object 71100                    \n",
      "Mag is nan for Object 71541                    \n",
      "Mag is nan for Object 73065                    \n",
      "Mag is nan for Object 73103                    \n",
      "Mag is nan for Object 77559                    \n",
      "Mag is nan for Object 77589                    \n",
      "Mag is nan for Object 78218                    \n",
      "Mag is nan for Object 81019                    \n",
      "Mag is nan for Object 85119                    \n",
      "Mag is nan for Object 90196                    \n",
      "Mag is nan for Object 91253                    \n",
      "Mag is nan for Object 91579                    \n",
      "Mag is nan for Object 93291                    \n",
      "Mag is nan for Object 93867                    \n",
      "Mag is nan for Object 95013                    \n",
      "Mag is nan for Object 95805                    \n",
      "Mag is nan for Object 96928                    \n",
      "Mag is nan for Object 98209                    \n",
      "Mag is nan for Object 98671                    \n",
      "Mag is nan for Object 99312                    \n",
      "Mag is nan for Object 100016                   \n",
      "Mag is nan for Object 106738                   \n",
      "Mag is nan for Object 107339                   \n",
      "Mag is nan for Object 107691                   \n",
      "Mag is nan for Object 108612                   \n",
      "Mag is nan for Object 108684                   \n",
      "Mag is nan for Object 109146                   \n",
      "Mag is nan for Object 110467                   \n",
      "Mag is nan for Object 110474                   \n",
      "Mag is nan for Object 115373                   \n",
      "Mag is nan for Object 115450                   \n",
      "Mag is nan for Object 115728                   \n",
      "Mag is nan for Object 119488                   \n",
      "Mag is nan for Object 120077                   \n",
      "Mag is nan for Object 125240                   \n",
      "Mag is nan for Object 129053                   \n",
      "Mag is nan for Object 133732                   \n",
      "Mag is nan for Object 159952                   \n",
      "Mag is nan for Object 173353                   \n",
      "Mag is nan for Object 205449                   \n",
      "Mag is nan for Object 207190                   \n",
      "Mag is nan for Object 389753                   \n",
      "Mag is nan for Object 389760                   \n",
      "Mag is nan for Object 404529                   \n",
      "Mag is nan for Object 405165                   \n",
      "Mag is nan for Object 414336                   \n",
      "Mag is nan for Object 423607                   \n",
      "Mag is nan for Object 423815                   \n",
      "Mag is nan for Object 424197                   \n",
      "Mag is nan for Object 427531                   \n",
      "Mag is nan for Object 441793                   \n",
      "Mag is nan for Object 442489                   \n",
      "Mag is nan for Object 443357                   \n",
      "Mag is nan for Object 444139                   \n",
      "Mag is nan for Object 448837                   \n",
      "Mag is nan for Object 456947                   \n",
      "Mag is nan for Object 462897                   \n",
      "Mag is nan for Object 464517                   \n",
      "Mag is nan for Object 475954                   \n",
      "Mag is nan for Object 486207                   \n",
      "Mag is nan for Object 499724                   \n",
      "Mag is nan for Object 528401                   \n",
      "Mag is nan for Object 547365                   \n",
      "Mag is nan for Object 555218                   \n",
      "Mag is nan for Object 555293                   \n",
      "Mag is nan for Object 577034                   \n",
      "Mag is nan for Object 590177                   \n",
      "Mag is nan for Object 608975                   \n",
      "Mag is nan for Object 626861                   \n",
      "Mag is nan for Object 646721                   \n",
      "Mag is nan for Object 676951                   \n",
      "Mag is nan for Object 686899                   \n",
      "Mag is nan for Object 700728                   \n",
      "Mag is nan for Object 703992                   \n",
      "Mag is nan for Object 727951                   \n",
      "Mag is nan for Object 736959                   \n",
      "Mag is nan for Object 771424                   \n",
      "Mag is nan for Object 771793                   \n",
      "Mag is nan for Object 777408                   \n",
      "Mag is nan for Object 778198                   \n",
      "Mag is nan for Object 779936                   \n",
      "Mag is nan for Object 786758                   \n",
      "Mag is nan for Object 789045                   \n",
      "Mag is nan for Object 795443                   \n"
     ]
    },
    {
     "name": "stdout",
     "output_type": "stream",
     "text": [
      "Mag is nan for Object 798179                   \n",
      "Mag is nan for Object 799372                   \n",
      "Mag is nan for Object 799436                   \n",
      "Mag is nan for Object 815383                   \n",
      "Mag is nan for Object 837921                   \n",
      "Mag is nan for Object 847960                   \n",
      "Mag is nan for Object 868433                   \n",
      "Mag is nan for Object 887679                   \n",
      "Mag is nan for Object 915782                   \n",
      "Mag is nan for Object 923812                   \n",
      "Mag is nan for Object 967599                   \n",
      "Mag is nan for Object 970767                   \n",
      "Mag is nan for Object 976122                   \n",
      "Mag is nan for Object 983660                   \n",
      "Mag is nan for Object 986643                   \n",
      "Mag is nan for Object 989659                   \n",
      "Mag is nan for Object 990606                   \n",
      "Mag is nan for Object 996097                   \n",
      "Mag is nan for Object 996637                   \n",
      "Mag is nan for Object 998552                   \n",
      "Mag is nan for Object 1000195                  \n",
      "Mag is nan for Object 1003325                  \n",
      "Mag is nan for Object 1004367                  \n",
      "Mag is nan for Object 1005223                  \n",
      "Mag is nan for Object 1007885                  \n",
      "Mag is nan for Object 1018647                  \n",
      "Mag is nan for Object 1019008                  \n",
      "Mag is nan for Object 1023273                  \n",
      "Mag is nan for Object 1026724                  \n",
      "Mag is nan for Object 1026980                  \n",
      "Mag is nan for Object 1029048                  \n",
      "Mag is nan for Object 1032501                  \n",
      "Mag is nan for Object 1032857                  \n",
      "Mag is nan for Object 1037837                  \n",
      "Mag is nan for Object 1043211                  \n",
      "Mag is nan for Object 1043541                  \n",
      "Mag is nan for Object 1045484                  \n",
      "Mag is nan for Object 1048339                  \n",
      "Mag is nan for Object 1049410                  \n",
      "Mag is nan for Object 1051427                  \n",
      "Mag is nan for Object 1055754                  \n",
      "Mag is nan for Object 1056167                  \n",
      "Mag is nan for Object 1059576                  \n",
      "Mag is nan for Object 1061295                  \n",
      "Mag is nan for Object 1065499                  \n",
      "Mag is nan for Object 1068866                  \n",
      "Mag is nan for Object 1087541                  \n",
      "Mag is nan for Object 1089612                  \n",
      "Mag is nan for Object 1091194                  \n",
      "Mag is nan for Object 1091253                  \n",
      "Mag is nan for Object 1094848                  \n",
      "Mag is nan for Object 1106758                  \n",
      "Mag is nan for Object 1115278                  \n",
      "Mag is nan for Object 1118490                  \n",
      "Mag is nan for Object 1122136                  \n",
      "Mag is nan for Object 1122354                  \n",
      "Mag is nan for Object 1123536                  \n",
      "Mag is nan for Object 1124017                  \n",
      "Mag is nan for Object 1126344                  \n",
      "Mag is nan for Object 1127021                  \n",
      "Mag is nan for Object 1127468                  \n",
      "Mag is nan for Object 1130233                  \n",
      "Mag is nan for Object 1135863                  \n",
      "Mag is nan for Object 1135875                  \n",
      "Mag is nan for Object 1136764                  \n",
      "Mag is nan for Object 1138085                  \n",
      "Mag is nan for Object 1138143                  \n",
      "Mag is nan for Object 1145385                  \n",
      "Mag is nan for Object 1146725                  \n",
      "Mag is nan for Object 1147425                  \n",
      "Mag is nan for Object 1147770                  \n",
      "Mag is nan for Object 1148869                  \n",
      "Mag is nan for Object 1160685                  \n",
      "Mag is nan for Object 1161400                  \n",
      "Mag is nan for Object 1168948                  \n",
      "Mag is nan for Object 1175131                  \n",
      "Mag is nan for Object 1175248                  \n",
      "Mag is nan for Object 1178782                  \n",
      "Mag is nan for Object 1179406                  \n",
      "Mag is nan for Object 1182317                  \n",
      "Mag is nan for Object 1188249                  \n",
      "Mag is nan for Object 1188841                  \n",
      "Mag is nan for Object 1195351                  \n",
      "Mag is nan for Object 1198339                  \n",
      "Mag is nan for Object 1201012                  \n",
      "Mag is nan for Object 1202728                  \n",
      "Mag is nan for Object 1207753                  \n",
      "Mag is nan for Object 1219225                  \n",
      "Mag is nan for Object 1229202                  \n",
      "Mag is nan for Object 1232350                  \n",
      "Mag is nan for Object 1233547                  \n",
      "Mag is nan for Object 1237158                  \n",
      "Mag is nan for Object 1237301                  \n",
      "Mag is nan for Object 1238131                  \n",
      "Mag is nan for Object 1241200                  \n",
      "Mag is nan for Object 1241303                  \n",
      "Mag is nan for Object 1241576                  \n"
     ]
    },
    {
     "name": "stderr",
     "output_type": "stream",
     "text": [
      "/Users/runburg/github/agn_lf/source/lf_vmax.py:220: RuntimeWarning: invalid value encountered in less\n",
      "  in_bin = (bins[i - 1] < data_table[band].data) & (data_table[band].data < bins[i])\n"
     ]
    }
   ],
   "source": [
    "band = 'Mag_U_CFHT'\n",
    "band_err = 'Mag_err_U_CFHT'\n",
    "z_cols = ('zSpec', 'z_eazy')\n",
    "mid = 'Mag_U_CFHT_abs'\n",
    "band_vmax = 'Mag_U_CFHT_Vmax'\n",
    "mid, low, high = tf.add_abs_mag_and_err_to_table(lacy_selected, band, band_err, z_cols)\n",
    "band_vmax = vmax.add_V_max_to_table(lacy_selected, band, band_err, mid, ('zSpec', 'z_eazy'))\n",
    "\n",
    "vmax_counts = vmax.v_max_counts(lacy_selected, bins, mid, selection_function=np.ones(len(lacy_selected)), vmax_band=band)"
   ]
  },
  {
   "cell_type": "code",
   "execution_count": 15,
   "metadata": {},
   "outputs": [
    {
     "data": {
      "image/png": "[encoded data removed]",
      "text/plain": [
       "<Figure size 432x288 with 1 Axes>"
      ]
     },
     "execution_count": 15,
     "metadata": {},
     "output_type": "execute_result"
    }
   ],
   "source": [
    "ax.errorbar(vmax_counts[0], vmax_counts[2], yerr=vmax_counts[3], fmt='*', label='Lacy et al. 2005')\n",
    "ax.legend()\n",
    "fig"
   ]
  },
  {
   "cell_type": "code",
   "execution_count": 16,
   "metadata": {},
   "outputs": [
    {
     "data": {
      "text/plain": [
       "3498"
      ]
     },
     "execution_count": 16,
     "metadata": {},
     "output_type": "execute_result"
    }
   ],
   "source": [
    "len(lacy_selected)"
   ]
  },
  {
   "cell_type": "code",
   "execution_count": 17,
   "metadata": {},
   "outputs": [
    {
     "name": "stdout",
     "output_type": "stream",
     "text": [
      "Beta: [  3.47334357 -26.35598695  -1.31711382  -3.56456766]\n",
      "Beta Std Error: [1.01151238 0.4787489  0.04034973 1.11979552]\n",
      "Beta Covariance: [[0.51361993 0.20860249 0.01771107 0.34514736]\n",
      " [0.20860249 0.11505753 0.00530071 0.19202547]\n",
      " [0.01771107 0.00530071 0.0008173  0.00848278]\n",
      " [0.34514736 0.19202547 0.00848278 0.62947271]]\n",
      "Residual Variance: 1.9920514073339297\n",
      "Inverse Condition #: 0.011663206588364417\n",
      "Reason(s) for Halting:\n",
      "  Sum of squares convergence\n"
     ]
    },
    {
     "data": {
      "image/png": "[encoded data removed]",
      "text/plain": [
       "<Figure size 432x288 with 1 Axes>"
      ]
     },
     "execution_count": 17,
     "metadata": {},
     "output_type": "execute_result"
    }
   ],
   "source": [
    "odr_out = xi2.odr_fit(*vmax_counts, initial_guesses=(18, -24, 0, -2))\n",
    "x_vals = np.linspace(min(bins), max(bins))\n",
    "ax.plot(x_vals, xi2.double_power_law(odr_out.beta, x_vals), 'g-')\n",
    "fig"
   ]
  },
  {
   "cell_type": "code",
   "execution_count": 18,
   "metadata": {},
   "outputs": [],
   "source": [
    "fig.savefig('/Users/runburg/github/agn_lf/lacy_lf.png')"
   ]
  },
  {
   "cell_type": "code",
   "execution_count": 28,
   "metadata": {},
   "outputs": [
    {
     "ename": "TypeError",
     "evalue": "Image data of dtype object cannot be converted to float",
     "output_type": "error",
     "traceback": [
      "\u001b[0;31m---------------------------------------------------------------------------\u001b[0m",
      "\u001b[0;31mTypeError\u001b[0m                                 Traceback (most recent call last)",
      "\u001b[0;32m<ipython-input-28-adb3ce4a0b38>\u001b[0m in \u001b[0;36m<module>\u001b[0;34m\u001b[0m\n\u001b[1;32m      1\u001b[0m \u001b[0mtrial\u001b[0m \u001b[0;34m=\u001b[0m \u001b[0mfits\u001b[0m\u001b[0;34m.\u001b[0m\u001b[0mopen\u001b[0m\u001b[0;34m(\u001b[0m\u001b[0;34m'/Users/runburg/Downloads/swire_XMM_I1_tile_3_3_v4_unc.fits'\u001b[0m\u001b[0;34m,\u001b[0m \u001b[0mmemmap\u001b[0m\u001b[0;34m=\u001b[0m\u001b[0;32mTrue\u001b[0m\u001b[0;34m)\u001b[0m\u001b[0;34m\u001b[0m\u001b[0;34m\u001b[0m\u001b[0m\n\u001b[0;32m----> 2\u001b[0;31m \u001b[0mplt\u001b[0m\u001b[0;34m.\u001b[0m\u001b[0mimshow\u001b[0m\u001b[0;34m(\u001b[0m\u001b[0mtrial\u001b[0m\u001b[0;34m,\u001b[0m \u001b[0mcmap\u001b[0m\u001b[0;34m=\u001b[0m\u001b[0;34m'gray'\u001b[0m\u001b[0;34m)\u001b[0m\u001b[0;34m\u001b[0m\u001b[0;34m\u001b[0m\u001b[0m\n\u001b[0m",
      "\u001b[0;32m/usr/local/lib/python3.8/site-packages/matplotlib/pyplot.py\u001b[0m in \u001b[0;36mimshow\u001b[0;34m(X, cmap, norm, aspect, interpolation, alpha, vmin, vmax, origin, extent, shape, filternorm, filterrad, imlim, resample, url, data, **kwargs)\u001b[0m\n\u001b[1;32m   2676\u001b[0m         \u001b[0mfilterrad\u001b[0m\u001b[0;34m=\u001b[0m\u001b[0;36m4.0\u001b[0m\u001b[0;34m,\u001b[0m \u001b[0mimlim\u001b[0m\u001b[0;34m=\u001b[0m\u001b[0mcbook\u001b[0m\u001b[0;34m.\u001b[0m\u001b[0mdeprecation\u001b[0m\u001b[0;34m.\u001b[0m\u001b[0m_deprecated_parameter\u001b[0m\u001b[0;34m,\u001b[0m\u001b[0;34m\u001b[0m\u001b[0;34m\u001b[0m\u001b[0m\n\u001b[1;32m   2677\u001b[0m         resample=None, url=None, *, data=None, **kwargs):\n\u001b[0;32m-> 2678\u001b[0;31m     __ret = gca().imshow(\n\u001b[0m\u001b[1;32m   2679\u001b[0m         \u001b[0mX\u001b[0m\u001b[0;34m,\u001b[0m \u001b[0mcmap\u001b[0m\u001b[0;34m=\u001b[0m\u001b[0mcmap\u001b[0m\u001b[0;34m,\u001b[0m \u001b[0mnorm\u001b[0m\u001b[0;34m=\u001b[0m\u001b[0mnorm\u001b[0m\u001b[0;34m,\u001b[0m \u001b[0maspect\u001b[0m\u001b[0;34m=\u001b[0m\u001b[0maspect\u001b[0m\u001b[0;34m,\u001b[0m\u001b[0;34m\u001b[0m\u001b[0;34m\u001b[0m\u001b[0m\n\u001b[1;32m   2680\u001b[0m         \u001b[0minterpolation\u001b[0m\u001b[0;34m=\u001b[0m\u001b[0minterpolation\u001b[0m\u001b[0;34m,\u001b[0m \u001b[0malpha\u001b[0m\u001b[0;34m=\u001b[0m\u001b[0malpha\u001b[0m\u001b[0;34m,\u001b[0m \u001b[0mvmin\u001b[0m\u001b[0;34m=\u001b[0m\u001b[0mvmin\u001b[0m\u001b[0;34m,\u001b[0m\u001b[0;34m\u001b[0m\u001b[0;34m\u001b[0m\u001b[0m\n",
      "\u001b[0;32m/usr/local/lib/python3.8/site-packages/matplotlib/__init__.py\u001b[0m in \u001b[0;36minner\u001b[0;34m(ax, data, *args, **kwargs)\u001b[0m\n\u001b[1;32m   1597\u001b[0m     \u001b[0;32mdef\u001b[0m \u001b[0minner\u001b[0m\u001b[0;34m(\u001b[0m\u001b[0max\u001b[0m\u001b[0;34m,\u001b[0m \u001b[0;34m*\u001b[0m\u001b[0margs\u001b[0m\u001b[0;34m,\u001b[0m \u001b[0mdata\u001b[0m\u001b[0;34m=\u001b[0m\u001b[0;32mNone\u001b[0m\u001b[0;34m,\u001b[0m \u001b[0;34m**\u001b[0m\u001b[0mkwargs\u001b[0m\u001b[0;34m)\u001b[0m\u001b[0;34m:\u001b[0m\u001b[0;34m\u001b[0m\u001b[0;34m\u001b[0m\u001b[0m\n\u001b[1;32m   1598\u001b[0m         \u001b[0;32mif\u001b[0m \u001b[0mdata\u001b[0m \u001b[0;32mis\u001b[0m \u001b[0;32mNone\u001b[0m\u001b[0;34m:\u001b[0m\u001b[0;34m\u001b[0m\u001b[0;34m\u001b[0m\u001b[0m\n\u001b[0;32m-> 1599\u001b[0;31m             \u001b[0;32mreturn\u001b[0m \u001b[0mfunc\u001b[0m\u001b[0;34m(\u001b[0m\u001b[0max\u001b[0m\u001b[0;34m,\u001b[0m \u001b[0;34m*\u001b[0m\u001b[0mmap\u001b[0m\u001b[0;34m(\u001b[0m\u001b[0msanitize_sequence\u001b[0m\u001b[0;34m,\u001b[0m \u001b[0margs\u001b[0m\u001b[0;34m)\u001b[0m\u001b[0;34m,\u001b[0m \u001b[0;34m**\u001b[0m\u001b[0mkwargs\u001b[0m\u001b[0;34m)\u001b[0m\u001b[0;34m\u001b[0m\u001b[0;34m\u001b[0m\u001b[0m\n\u001b[0m\u001b[1;32m   1600\u001b[0m \u001b[0;34m\u001b[0m\u001b[0m\n\u001b[1;32m   1601\u001b[0m         \u001b[0mbound\u001b[0m \u001b[0;34m=\u001b[0m \u001b[0mnew_sig\u001b[0m\u001b[0;34m.\u001b[0m\u001b[0mbind\u001b[0m\u001b[0;34m(\u001b[0m\u001b[0max\u001b[0m\u001b[0;34m,\u001b[0m \u001b[0;34m*\u001b[0m\u001b[0margs\u001b[0m\u001b[0;34m,\u001b[0m \u001b[0;34m**\u001b[0m\u001b[0mkwargs\u001b[0m\u001b[0;34m)\u001b[0m\u001b[0;34m\u001b[0m\u001b[0;34m\u001b[0m\u001b[0m\n",
      "\u001b[0;32m/usr/local/lib/python3.8/site-packages/matplotlib/cbook/deprecation.py\u001b[0m in \u001b[0;36mwrapper\u001b[0;34m(*args, **kwargs)\u001b[0m\n\u001b[1;32m    367\u001b[0m                 \u001b[0;34mf\"%(removal)s.  If any parameter follows {name!r}, they \"\u001b[0m\u001b[0;34m\u001b[0m\u001b[0;34m\u001b[0m\u001b[0m\n\u001b[1;32m    368\u001b[0m                 f\"should be pass as keyword, not positionally.\")\n\u001b[0;32m--> 369\u001b[0;31m         \u001b[0;32mreturn\u001b[0m \u001b[0mfunc\u001b[0m\u001b[0;34m(\u001b[0m\u001b[0;34m*\u001b[0m\u001b[0margs\u001b[0m\u001b[0;34m,\u001b[0m \u001b[0;34m**\u001b[0m\u001b[0mkwargs\u001b[0m\u001b[0;34m)\u001b[0m\u001b[0;34m\u001b[0m\u001b[0;34m\u001b[0m\u001b[0m\n\u001b[0m\u001b[1;32m    370\u001b[0m \u001b[0;34m\u001b[0m\u001b[0m\n\u001b[1;32m    371\u001b[0m     \u001b[0;32mreturn\u001b[0m \u001b[0mwrapper\u001b[0m\u001b[0;34m\u001b[0m\u001b[0;34m\u001b[0m\u001b[0m\n",
      "\u001b[0;32m/usr/local/lib/python3.8/site-packages/matplotlib/cbook/deprecation.py\u001b[0m in \u001b[0;36mwrapper\u001b[0;34m(*args, **kwargs)\u001b[0m\n\u001b[1;32m    367\u001b[0m                 \u001b[0;34mf\"%(removal)s.  If any parameter follows {name!r}, they \"\u001b[0m\u001b[0;34m\u001b[0m\u001b[0;34m\u001b[0m\u001b[0m\n\u001b[1;32m    368\u001b[0m                 f\"should be pass as keyword, not positionally.\")\n\u001b[0;32m--> 369\u001b[0;31m         \u001b[0;32mreturn\u001b[0m \u001b[0mfunc\u001b[0m\u001b[0;34m(\u001b[0m\u001b[0;34m*\u001b[0m\u001b[0margs\u001b[0m\u001b[0;34m,\u001b[0m \u001b[0;34m**\u001b[0m\u001b[0mkwargs\u001b[0m\u001b[0;34m)\u001b[0m\u001b[0;34m\u001b[0m\u001b[0;34m\u001b[0m\u001b[0m\n\u001b[0m\u001b[1;32m    370\u001b[0m \u001b[0;34m\u001b[0m\u001b[0m\n\u001b[1;32m    371\u001b[0m     \u001b[0;32mreturn\u001b[0m \u001b[0mwrapper\u001b[0m\u001b[0;34m\u001b[0m\u001b[0;34m\u001b[0m\u001b[0m\n",
      "\u001b[0;32m/usr/local/lib/python3.8/site-packages/matplotlib/axes/_axes.py\u001b[0m in \u001b[0;36mimshow\u001b[0;34m(self, X, cmap, norm, aspect, interpolation, alpha, vmin, vmax, origin, extent, shape, filternorm, filterrad, imlim, resample, url, **kwargs)\u001b[0m\n\u001b[1;32m   5677\u001b[0m                               resample=resample, **kwargs)\n\u001b[1;32m   5678\u001b[0m \u001b[0;34m\u001b[0m\u001b[0m\n\u001b[0;32m-> 5679\u001b[0;31m         \u001b[0mim\u001b[0m\u001b[0;34m.\u001b[0m\u001b[0mset_data\u001b[0m\u001b[0;34m(\u001b[0m\u001b[0mX\u001b[0m\u001b[0;34m)\u001b[0m\u001b[0;34m\u001b[0m\u001b[0;34m\u001b[0m\u001b[0m\n\u001b[0m\u001b[1;32m   5680\u001b[0m         \u001b[0mim\u001b[0m\u001b[0;34m.\u001b[0m\u001b[0mset_alpha\u001b[0m\u001b[0;34m(\u001b[0m\u001b[0malpha\u001b[0m\u001b[0;34m)\u001b[0m\u001b[0;34m\u001b[0m\u001b[0;34m\u001b[0m\u001b[0m\n\u001b[1;32m   5681\u001b[0m         \u001b[0;32mif\u001b[0m \u001b[0mim\u001b[0m\u001b[0;34m.\u001b[0m\u001b[0mget_clip_path\u001b[0m\u001b[0;34m(\u001b[0m\u001b[0;34m)\u001b[0m \u001b[0;32mis\u001b[0m \u001b[0;32mNone\u001b[0m\u001b[0;34m:\u001b[0m\u001b[0;34m\u001b[0m\u001b[0;34m\u001b[0m\u001b[0m\n",
      "\u001b[0;32m/usr/local/lib/python3.8/site-packages/matplotlib/image.py\u001b[0m in \u001b[0;36mset_data\u001b[0;34m(self, A)\u001b[0m\n\u001b[1;32m    682\u001b[0m         if (self._A.dtype != np.uint8 and\n\u001b[1;32m    683\u001b[0m                 not np.can_cast(self._A.dtype, float, \"same_kind\")):\n\u001b[0;32m--> 684\u001b[0;31m             raise TypeError(\"Image data of dtype {} cannot be converted to \"\n\u001b[0m\u001b[1;32m    685\u001b[0m                             \"float\".format(self._A.dtype))\n\u001b[1;32m    686\u001b[0m \u001b[0;34m\u001b[0m\u001b[0m\n",
      "\u001b[0;31mTypeError\u001b[0m: Image data of dtype object cannot be converted to float"
     ]
    },
    {
     "data": {
      "image/png": "[encoded data removed]",
      "text/plain": [
       "<Figure size 432x288 with 1 Axes>"
      ]
     },
     "metadata": {
      "needs_background": "light"
     },
     "output_type": "display_data"
    }
   ],
   "source": [
    "trial = fits.open('/Users/runburg/Downloads/swire_XMM_I1_tile_3_3_v4_unc.fits', memmap=True)\n",
    "plt.imshow(trial, cmap='gray')"
   ]
  },
  {
   "cell_type": "code",
   "execution_count": 22,
   "metadata": {},
   "outputs": [
    {
     "ename": "AttributeError",
     "evalue": "'HDUList' object has no attribute 'data'",
     "output_type": "error",
     "traceback": [
      "\u001b[0;31m---------------------------------------------------------------------------\u001b[0m",
      "\u001b[0;31mAttributeError\u001b[0m                            Traceback (most recent call last)",
      "\u001b[0;32m<ipython-input-22-871d671afc34>\u001b[0m in \u001b[0;36m<module>\u001b[0;34m\u001b[0m\n\u001b[0;32m----> 1\u001b[0;31m \u001b[0mtrial\u001b[0m\u001b[0;34m.\u001b[0m\u001b[0mdata\u001b[0m\u001b[0;34m\u001b[0m\u001b[0;34m\u001b[0m\u001b[0m\n\u001b[0m",
      "\u001b[0;31mAttributeError\u001b[0m: 'HDUList' object has no attribute 'data'"
     ]
    }
   ],
   "source": [
    "trial.data"
   ]
  },
  {
   "cell_type": "code",
   "execution_count": 23,
   "metadata": {},
   "outputs": [
    {
     "data": {
      "text/plain": [
       "[<astropy.io.fits.hdu.image.PrimaryHDU object at 0x24297bfd0>]"
      ]
     },
     "execution_count": 23,
     "metadata": {},
     "output_type": "execute_result"
    }
   ],
   "source": [
    "trial"
   ]
  },
  {
   "cell_type": "code",
   "execution_count": 24,
   "metadata": {},
   "outputs": [
    {
     "data": {
      "text/plain": [
       "<astropy.io.fits.hdu.image.PrimaryHDU at 0x24297bfd0>"
      ]
     },
     "execution_count": 24,
     "metadata": {},
     "output_type": "execute_result"
    }
   ],
   "source": [
    "trial[0]"
   ]
  },
  {
   "cell_type": "code",
   "execution_count": 26,
   "metadata": {},
   "outputs": [
    {
     "data": {
      "text/plain": [
       "SIMPLE  =                    T / Written by IDL:  Thu Apr 20 19:59:41 2006      \n",
       "BITPIX  =                  -32 / Bits per pixel- floating point                 \n",
       "NAXIS   =                    2 / STANDARD FITS FORMAT                           \n",
       "NAXIS1  =                 4800 /  Axis Length                                   \n",
       "NAXIS2  =                 5000 /  Axis Length                                   \n",
       "TELESCOP= 'Spitzer '           / SPITZER Space Telescope                        \n",
       "INSTRUME= 'IRAC    '           / SPITZER Space Telescope instrument ID          \n",
       "CHNLNUM =                    1 / 1 digit instrument channel number              \n",
       "EXPTYPE = 'sci     '           / Exposure Type                                  \n",
       "FOVID   =                   81 / Field of View ID                               \n",
       "FOVNAME = 'IRAC_FOV_bwn_3.6&5.8_and_4.5&8.0_for_mapping' / Field of View Name   \n",
       "OBSRVR  = 'Carol Lonsdale'     / Observer Name (Last, First)                    \n",
       "OBSRVRID=                   88 / Observer ID of Principal Investigator          \n",
       "PROCYCL =                    2 / Proposal Cycle                                 \n",
       "PROGID  =                  181 / Program ID                                     \n",
       "DATE_OBS= '2004-07-26T15:36:23.961' / Date & time at DCE start                  \n",
       "CRVAL1  =            35.333333                                                  \n",
       "CRVAL2  =                 -4.5                                                  \n",
       "RADESYS = 'ICRS    '           / International Celestial Reference System       \n",
       "EQUINOX =                2000. / Equinox for ICRS celestial coord. system       \n",
       "CTYPE1  = 'RA---TAN'                                                            \n",
       "CTYPE2  = 'DEC--TAN'                                                            \n",
       "CRPIX1  =            50.500001                                                  \n",
       "CRPIX2  =            50.500001                                                  \n",
       "CDELT1  =         -0.000166667                                                  \n",
       "CDELT2  =          0.000166667                                                  \n",
       "CROTA2  =                  20.                                                  \n",
       "BUNIT   = 'MJy/sr  '           / Units of image data                            \n",
       "AORKEY  =              5839104 / AOR or EIR key. Astrnmy Obs Req/Instr Eng Req  \n",
       "DPID    =             69005398 / Data Product Instance ID                       \n",
       "COMMENT   Photons in Well = Flux[photons/sec/pixel] * FRAMTIME                  \n",
       "COMMENT   DN per pixel = Flux[photons/sec/pixel] / GAIN * EXPTIME               \n",
       "COMMENT MOSAIC_INT Module Version 2.9 image created                             \n",
       "COMMENT Sat May  6 15:04:11 2006                                                \n",
       "COMMENT MOSAIC_REINT Module Version 1.8 Uncertainty image created               \n",
       "COMMENT Sat May  6 17:21:27 2006                                                \n",
       "COMMENT MOSAIC_COADD Module Version 2.6 Uncertainty image created               \n",
       "COMMENT Sat May  6 17:40:33 2006                                                \n",
       "COMMENT MOSAIC_COMBINE Module Version 1.5 image created                         \n",
       "COMMENT Sat May  6 17:45:55 2006                                                "
      ]
     },
     "execution_count": 26,
     "metadata": {},
     "output_type": "execute_result"
    }
   ],
   "source": [
    "trial[0].header"
   ]
  },
  {
   "cell_type": "code",
   "execution_count": null,
   "metadata": {},
   "outputs": [],
   "source": []
  }
 ],
 "metadata": {
  "kernelspec": {
   "display_name": "Python 3",
   "language": "python",
   "name": "python3"
  },
  "language_info": {
   "codemirror_mode": {
    "name": "ipython",
    "version": 3
   },
   "file_extension": ".py",
   "mimetype": "text/x-python",
   "name": "python",
   "nbconvert_exporter": "python",
   "pygments_lexer": "ipython3",
   "version": "3.8.2"
  }
 },
 "nbformat": 4,
 "nbformat_minor": 2
}
