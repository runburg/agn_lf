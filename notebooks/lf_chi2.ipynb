{
 "cells": [
  {
   "cell_type": "code",
   "execution_count": 1,
   "metadata": {},
   "outputs": [
    {
     "name": "stdout",
     "output_type": "stream",
     "text": [
      "/Users/runburg/github/agn_lf\n"
     ]
    }
   ],
   "source": [
    "%cd ~/github/agn_lf/"
   ]
  },
  {
   "cell_type": "code",
   "execution_count": 2,
   "metadata": {},
   "outputs": [],
   "source": [
    "import source.astro_functions as af\n",
    "import source.table_functions as tf\n",
    "import source.lf_xi2 as xi2\n",
    "import source.lf_vmax as vmax\n",
    "import numpy as np\n",
    "import matplotlib.pyplot as plt"
   ]
  },
  {
   "cell_type": "code",
   "execution_count": 3,
   "metadata": {},
   "outputs": [],
   "source": [
    "# use table with agn_flag\n",
    "from astropy.io import fits\n",
    "import astropy.table as table\n",
    "# catalog = fits.open(\"data/Anna_Nick_Tractor_photometry_samplev9_MASTER.fits\", memmap=True)\n",
    "# ct = table.Table(catalog[1].data)\n",
    "# flagged_agn = ct[np.where(ct['agn_flag'] == 1)]\n",
    "# flagged_agn = table.Table(flagged_agn, masked=True, copy=False)\n",
    "# # for col in flagged_agn.columns.values():\n",
    "# #     try:\n",
    "# #         col.mask = np.isnan(col)\n",
    "# #     except TypeError:\n",
    "# #         continue\n",
    "# flagged_agn.write('./data/flagged_agn.fits', format='fits')\n",
    "flagged_agn = table.Table.read('./data/flagged_agn.fits')"
   ]
  },
  {
   "cell_type": "code",
   "execution_count": 4,
   "metadata": {
    "scrolled": false
   },
   "outputs": [
    {
     "name": "stdout",
     "output_type": "stream",
     "text": [
      "Mag is nan for Object 2502\n",
      "Mag is nan for Object 15742\n",
      "Mag is nan for Object 16371\n",
      "Mag is nan for Object 27024\n",
      "Mag is nan for Object 29075\n",
      "Mag is nan for Object 37136\n",
      "Mag is nan for Object 39295\n",
      "Mag is nan for Object 50472\n",
      "Mag is nan for Object 54106\n",
      "Mag is nan for Object 58462\n",
      "Mag is nan for Object 63711\n",
      "Mag is nan for Object 64853\n",
      "Mag is nan for Object 69214\n",
      "Mag is nan for Object 78218\n",
      "Mag is nan for Object 85119\n",
      "Mag is nan for Object 93867\n",
      "Mag is nan for Object 98209\n",
      "Mag is nan for Object 106635\n",
      "Mag is nan for Object 106738\n",
      "Mag is nan for Object 111490\n",
      "Mag is nan for Object 115373\n",
      "Mag is nan for Object 115728\n",
      "Mag is nan for Object 119488\n",
      "Mag is nan for Object 125240\n",
      "Mag is nan for Object 161945\n",
      "Mag is nan for Object 165092\n",
      "Mag is nan for Object 169796\n",
      "Mag is nan for Object 181168\n",
      "Mag is nan for Object 191784\n",
      "Mag is nan for Object 201456\n",
      "Mag is nan for Object 216035\n",
      "Mag is nan for Object 237026\n",
      "Mag is nan for Object 237735\n",
      "Mag is nan for Object 244541\n",
      "Mag is nan for Object 256048\n",
      "Mag is nan for Object 286090\n",
      "Mag is nan for Object 286464\n",
      "Mag is nan for Object 293050\n",
      "Mag is nan for Object 300624\n",
      "Mag is nan for Object 306109\n",
      "Mag is nan for Object 314510\n",
      "Mag is nan for Object 315405\n",
      "Mag is nan for Object 320652\n",
      "Mag is nan for Object 323888\n",
      "Mag is nan for Object 326638\n",
      "Mag is nan for Object 329711\n",
      "Mag is nan for Object 332272\n",
      "Mag is nan for Object 333470\n",
      "Mag is nan for Object 339125\n",
      "Mag is nan for Object 345321\n",
      "Mag is nan for Object 346394\n",
      "Mag is nan for Object 347492\n",
      "Mag is nan for Object 393307\n",
      "Mag is nan for Object 496875\n",
      "Mag is nan for Object 533899\n",
      "Mag is nan for Object 809868\n",
      "Mag is nan for Object 812485\n",
      "Mag is nan for Object 854340\n",
      "Mag is nan for Object 917468\n",
      "Mag is nan for Object 918334\n",
      "Mag is nan for Object 945988\n",
      "Mag is nan for Object 951865\n",
      "Mag is nan for Object 968043\n",
      "Mag is nan for Object 976122\n",
      "Mag is nan for Object 977321\n",
      "Mag is nan for Object 978029\n",
      "Mag is nan for Object 985188\n",
      "Mag is nan for Object 988227\n",
      "Mag is nan for Object 990917\n",
      "Mag is nan for Object 993265\n",
      "Mag is nan for Object 998552\n",
      "Mag is nan for Object 1018647\n",
      "Mag is nan for Object 1018983\n",
      "Mag is nan for Object 1019008\n",
      "Mag is nan for Object 1037837\n",
      "Mag is nan for Object 1070053\n",
      "Mag is nan for Object 1126223\n",
      "Mag is nan for Object 1127021\n",
      "Mag is nan for Object 1138085\n",
      "Mag is nan for Object 1155897\n"
     ]
    },
    {
     "name": "stderr",
     "output_type": "stream",
     "text": [
      "/Users/runburg/github/agn_lf/source/astro_functions.py:52: RuntimeWarning: invalid value encountered in log10\n",
      "  return mag_app - 5*np.log10(cosmo.luminosity_distance(z).to(u.pc).value/10) - k_correction(z)\n",
      "/Users/runburg/github/agn_lf/source/astro_functions.py:52: RuntimeWarning: divide by zero encountered in log10\n",
      "  return mag_app - 5*np.log10(cosmo.luminosity_distance(z).to(u.pc).value/10) - k_correction(z)\n"
     ]
    },
    {
     "name": "stdout",
     "output_type": "stream",
     "text": [
      "Mag is nan for Object 1168948\n",
      "Mag is nan for Object 1178782\n",
      "Mag is nan for Object 1184562\n",
      "Mag is nan for Object 1188841\n",
      "Mag is nan for Object 1195351\n",
      "Mag is nan for Object 1206025\n",
      "Mag is nan for Object 1208364\n",
      "Mag is nan for Object 2502\n",
      "Mag is nan for Object 15742\n",
      "Mag is nan for Object 16371\n",
      "Mag is nan for Object 27024\n",
      "Mag is nan for Object 29075\n",
      "Mag is nan for Object 37136\n",
      "Mag is nan for Object 39295\n",
      "Mag is nan for Object 50472\n",
      "Mag is nan for Object 54106\n",
      "Mag is nan for Object 58462\n",
      "Mag is nan for Object 63711\n",
      "Mag is nan for Object 64853\n",
      "Mag is nan for Object 69214\n",
      "Mag is nan for Object 78218\n",
      "Mag is nan for Object 85119\n",
      "Mag is nan for Object 93867\n",
      "Mag is nan for Object 98209\n",
      "Mag is nan for Object 106635\n",
      "Mag is nan for Object 106738\n",
      "Mag is nan for Object 111490\n",
      "Mag is nan for Object 115373\n",
      "Mag is nan for Object 115728\n",
      "Mag is nan for Object 119488\n",
      "Mag is nan for Object 125240\n",
      "Mag is nan for Object 161945\n",
      "Mag is nan for Object 165092\n",
      "Mag is nan for Object 169796\n",
      "Mag is nan for Object 181168\n",
      "Mag is nan for Object 191784\n",
      "Mag is nan for Object 201456\n",
      "Mag is nan for Object 216035\n",
      "Mag is nan for Object 237026\n",
      "Mag is nan for Object 237735\n",
      "Mag is nan for Object 244541\n",
      "Mag is nan for Object 256048\n",
      "Mag is nan for Object 286090\n",
      "Mag is nan for Object 286464\n",
      "Mag is nan for Object 293050\n",
      "Mag is nan for Object 300624\n",
      "Mag is nan for Object 306109\n",
      "Mag is nan for Object 314510\n",
      "Mag is nan for Object 315405\n",
      "Mag is nan for Object 320652\n",
      "Mag is nan for Object 323888\n",
      "Mag is nan for Object 326638\n",
      "Mag is nan for Object 329711\n",
      "Mag is nan for Object 332272\n",
      "Mag is nan for Object 333470\n",
      "Mag is nan for Object 339125\n",
      "Mag is nan for Object 345321\n",
      "Mag is nan for Object 346394\n",
      "Mag is nan for Object 347492\n",
      "Mag is nan for Object 393307\n",
      "Mag is nan for Object 496875\n",
      "Mag is nan for Object 533899\n",
      "Mag is nan for Object 809868\n",
      "Mag is nan for Object 812485\n",
      "Mag is nan for Object 854340\n",
      "Mag is nan for Object 917468\n",
      "Mag is nan for Object 918334\n",
      "Mag is nan for Object 945988\n",
      "Mag is nan for Object 951865\n",
      "Mag is nan for Object 968043\n",
      "Mag is nan for Object 976122\n",
      "Mag is nan for Object 977321\n",
      "Mag is nan for Object 978029\n",
      "Mag is nan for Object 985188\n",
      "Mag is nan for Object 988227\n",
      "Mag is nan for Object 990917\n",
      "Mag is nan for Object 993265\n",
      "Mag is nan for Object 998552\n",
      "Mag is nan for Object 1018647\n",
      "Mag is nan for Object 1018983\n",
      "Mag is nan for Object 1019008\n",
      "Mag is nan for Object 1037837\n",
      "Mag is nan for Object 1070053\n",
      "Mag is nan for Object 1126223\n",
      "Mag is nan for Object 1127021\n",
      "Mag is nan for Object 1138085\n",
      "Mag is nan for Object 1155897\n",
      "Mag is nan for Object 1168948\n",
      "Mag is nan for Object 1178782\n",
      "Mag is nan for Object 1184562\n",
      "Mag is nan for Object 1188841\n",
      "Mag is nan for Object 1195351\n",
      "Mag is nan for Object 1206025\n",
      "Mag is nan for Object 1208364\n"
     ]
    }
   ],
   "source": [
    "band = 'Mag_U_CFHT'\n",
    "band_err = 'Mag_err_U_CFHT'\n",
    "z_cols = ('zSpec', 'z_eazy')\n",
    "mid = 'Mag_U_CFHT_abs'\n",
    "band_vmax = 'Mag_U_CFHT_Vmax'\n",
    "mid, low, high = tf.add_abs_mag_and_err_to_table(flagged_agn, band, band_err, z_cols)\n",
    "band_vmax = vmax.add_V_max_to_table(flagged_agn, band, band_err, mid, ('zSpec', 'z_eazy'))\n",
    "flagged_agn.write('./data/flagged_agn_w_mag_and_vmax.fits')\n",
    "flagged_agn = table.Table.read('./data/flagged_agn_w_mag_and_vmax.fits')"
   ]
  },
  {
   "cell_type": "code",
   "execution_count": 5,
   "metadata": {
    "scrolled": false
   },
   "outputs": [
    {
     "name": "stderr",
     "output_type": "stream",
     "text": [
      "/Users/runburg/github/agn_lf/source/lf_vmax.py:220: RuntimeWarning: invalid value encountered in less\n",
      "  in_bin = (bins[i - 1] < data_table[band].data) & (data_table[band].data < bins[i])\n"
     ]
    },
    {
     "data": {
      "text/plain": [
       "array([22.606075,       nan, 22.587841, ..., 19.483315, 22.185135,\n",
       "       20.052412], dtype=float32)"
      ]
     },
     "execution_count": 5,
     "metadata": {},
     "output_type": "execute_result"
    }
   ],
   "source": [
    "bins = np.arange(np.ceil(min(flagged_agn[mid])), -14)\n",
    "vmax_counts = vmax.v_max_counts(flagged_agn, bins, mid, selection_function=np.ones(len(flagged_agn[mid])), vmax_band=band)\n",
    "flagged_agn[band].data"
   ]
  },
  {
   "cell_type": "code",
   "execution_count": 6,
   "metadata": {},
   "outputs": [
    {
     "data": {
      "image/png": "[encoded data removed]",
      "text/plain": [
       "<Figure size 432x288 with 1 Axes>"
      ]
     },
     "metadata": {
      "needs_background": "light"
     },
     "output_type": "display_data"
    }
   ],
   "source": [
    "fig, ax = vmax.plot_lf_V_max(*vmax_counts)"
   ]
  },
  {
   "cell_type": "code",
   "execution_count": 7,
   "metadata": {
    "scrolled": false
   },
   "outputs": [
    {
     "data": {
      "text/plain": [
       "array([22.606075,       nan, 22.587841, ..., 19.483315, 22.185135,\n",
       "       20.052412], dtype=float32)"
      ]
     },
     "execution_count": 7,
     "metadata": {},
     "output_type": "execute_result"
    }
   ],
   "source": [
    "bins = np.arange(np.ceil(min(flagged_agn[mid])), -14)\n",
    "vmax_counts = vmax.v_max_counts(flagged_agn, bins, mid, selection_function=vmax.example_selection_func(flagged_agn[mid]), vmax_band=band)\n",
    "flagged_agn[band].data"
   ]
  },
  {
   "cell_type": "code",
   "execution_count": 8,
   "metadata": {},
   "outputs": [
    {
     "data": {
      "image/png": "[encoded data removed]",
      "text/plain": [
       "<Figure size 432x288 with 1 Axes>"
      ]
     },
     "metadata": {
      "needs_background": "light"
     },
     "output_type": "display_data"
    }
   ],
   "source": [
    "fig, ax = vmax.plot_lf_V_max(*vmax_counts)"
   ]
  },
  {
   "cell_type": "code",
   "execution_count": 9,
   "metadata": {},
   "outputs": [
    {
     "name": "stdout",
     "output_type": "stream",
     "text": [
      "Beta: [ 15.26475157 -24.83376961  -0.74352927  -2.7029031 ]\n",
      "Beta Std Error: [2.15541393 0.46380579 0.05367272 0.5109173 ]\n",
      "Beta Covariance: [[1.35425349e+00 1.24763914e-01 2.81177217e-02 1.04470527e-01]\n",
      " [1.24763914e-01 6.27062640e-02 5.09327984e-03 5.37943750e-02]\n",
      " [2.81177217e-02 5.09327984e-03 8.39741750e-04 4.18697758e-03]\n",
      " [1.04470527e-01 5.37943750e-02 4.18697758e-03 7.60921423e-02]]\n",
      "Residual Variance: 3.43053143849985\n",
      "Inverse Condition #: 0.0066577630936472875\n",
      "Reason(s) for Halting:\n",
      "  Sum of squares convergence\n"
     ]
    }
   ],
   "source": [
    "# print(vmax_counts)\n",
    "odr_out = xi2.odr_fit(*vmax_counts, initial_guesses=(10, -24, 0.05, -.5))\n"
   ]
  },
  {
   "cell_type": "code",
   "execution_count": 10,
   "metadata": {},
   "outputs": [
    {
     "data": {
      "text/plain": [
       "array([ 15.26475157, -24.83376961,  -0.74352927,  -2.7029031 ])"
      ]
     },
     "execution_count": 10,
     "metadata": {},
     "output_type": "execute_result"
    }
   ],
   "source": [
    "odr_out.beta"
   ]
  },
  {
   "cell_type": "code",
   "execution_count": 11,
   "metadata": {},
   "outputs": [
    {
     "data": {
      "image/png": "[encoded data removed]",
      "text/plain": [
       "<Figure size 432x288 with 1 Axes>"
      ]
     },
     "execution_count": 11,
     "metadata": {},
     "output_type": "execute_result"
    }
   ],
   "source": [
    "x_vals = np.linspace(min(bins), max(bins))\n",
    "ax.plot(x_vals, xi2.double_power_law(odr_out.beta, x_vals))\n",
    "fig"
   ]
  },
  {
   "cell_type": "code",
   "execution_count": 12,
   "metadata": {},
   "outputs": [
    {
     "data": {
      "text/html": [
       "&lt;Column name=&apos;Mag_U_CFHT_Vmax&apos; dtype=&apos;float64&apos; unit=&apos;Mpc3&apos; length=1302&gt;\n",
       "<table>\n",
       "<tr><td>2321532824.8403134</td></tr>\n",
       "<tr><td>0.0</td></tr>\n",
       "<tr><td>2321532824.8403134</td></tr>\n",
       "<tr><td>2321532824.8403134</td></tr>\n",
       "<tr><td>2321532824.8403134</td></tr>\n",
       "<tr><td>2321532824.8403134</td></tr>\n",
       "<tr><td>2321532824.8403134</td></tr>\n",
       "<tr><td>2321532824.8403134</td></tr>\n",
       "<tr><td>0.0</td></tr>\n",
       "<tr><td>2321532824.8403134</td></tr>\n",
       "<tr><td>2321532824.8403134</td></tr>\n",
       "<tr><td>0.0</td></tr>\n",
       "<tr><td>...</td></tr>\n",
       "<tr><td>2321532824.8403134</td></tr>\n",
       "<tr><td>0.0</td></tr>\n",
       "<tr><td>2321532824.8403134</td></tr>\n",
       "<tr><td>0.0</td></tr>\n",
       "<tr><td>2321532824.8403134</td></tr>\n",
       "<tr><td>2321532824.8403134</td></tr>\n",
       "<tr><td>2321532824.8403134</td></tr>\n",
       "<tr><td>2321532824.8403134</td></tr>\n",
       "<tr><td>2321532824.8403134</td></tr>\n",
       "<tr><td>2321532824.8403134</td></tr>\n",
       "<tr><td>2321532824.8403134</td></tr>\n",
       "<tr><td>2321532824.8403134</td></tr>\n",
       "</table>"
      ],
      "text/plain": [
       "<Column name='Mag_U_CFHT_Vmax' dtype='float64' unit='Mpc3' length=1302>\n",
       "2321532824.8403134\n",
       "               0.0\n",
       "2321532824.8403134\n",
       "2321532824.8403134\n",
       "2321532824.8403134\n",
       "2321532824.8403134\n",
       "2321532824.8403134\n",
       "2321532824.8403134\n",
       "               0.0\n",
       "2321532824.8403134\n",
       "2321532824.8403134\n",
       "               0.0\n",
       "               ...\n",
       "2321532824.8403134\n",
       "               0.0\n",
       "2321532824.8403134\n",
       "               0.0\n",
       "2321532824.8403134\n",
       "2321532824.8403134\n",
       "2321532824.8403134\n",
       "2321532824.8403134\n",
       "2321532824.8403134\n",
       "2321532824.8403134\n",
       "2321532824.8403134\n",
       "2321532824.8403134"
      ]
     },
     "execution_count": 12,
     "metadata": {},
     "output_type": "execute_result"
    }
   ],
   "source": [
    "flagged_agn[band_vmax]"
   ]
  },
  {
   "cell_type": "code",
   "execution_count": null,
   "metadata": {},
   "outputs": [],
   "source": []
  }
 ],
 "metadata": {
  "kernelspec": {
   "display_name": "Python 3",
   "language": "python",
   "name": "python3"
  },
  "language_info": {
   "codemirror_mode": {
    "name": "ipython",
    "version": 3
   },
   "file_extension": ".py",
   "mimetype": "text/x-python",
   "name": "python",
   "nbconvert_exporter": "python",
   "pygments_lexer": "ipython3",
   "version": "3.7.6"
  }
 },
 "nbformat": 4,
 "nbformat_minor": 2
}
